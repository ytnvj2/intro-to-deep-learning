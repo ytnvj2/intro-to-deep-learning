{
 "cells": [
  {
   "cell_type": "code",
   "execution_count": 1,
   "metadata": {},
   "outputs": [
    {
     "data": {
      "text/plain": [
       "<Figure size 640x480 with 1 Axes>"
      ]
     },
     "metadata": {},
     "output_type": "display_data"
    },
    {
     "data": {
      "text/plain": [
       "(5400, 2)"
      ]
     },
     "execution_count": 1,
     "metadata": {},
     "output_type": "execute_result"
    }
   ],
   "source": [
    "## Creating Data\n",
    "import numpy as np\n",
    "import matplotlib.pyplot as plt\n",
    "def get_spiral():\n",
    "    # Idea: radius -> low...high\n",
    "    #           (don't start at 0, otherwise points will be \"mushed\" at origin)\n",
    "    #       angle = low...high proportional to radius\n",
    "    #               [0, 2pi/6, 4pi/6, ..., 10pi/6] --> [pi/2, pi/3 + pi/2, ..., ]\n",
    "    # x = rcos(theta), y = rsin(theta) as usual\n",
    "\n",
    "    radius = np.linspace(1, 10, 1000)\n",
    "    thetas = np.empty((6, 1000))\n",
    "    for i in range(6):\n",
    "        start_angle = np.pi*i / 3.0\n",
    "        end_angle = start_angle + np.pi / 2\n",
    "        points = np.linspace(start_angle, end_angle, 1000)\n",
    "        thetas[i] = points\n",
    "\n",
    "    # convert into cartesian coordinates\n",
    "    x1 = np.empty((6, 1000))\n",
    "    x2 = np.empty((6, 1000))\n",
    "    for i in range(6):\n",
    "        x1[i] = radius * np.cos(thetas[i])\n",
    "        x2[i] = radius * np.sin(thetas[i])\n",
    "\n",
    "    # inputs\n",
    "    X = np.empty((6000, 2))\n",
    "    X[:,0] = x1.flatten()\n",
    "    X[:,1] = x2.flatten()\n",
    "\n",
    "    # add noise\n",
    "    X += np.random.randn(6000, 2)*0.5\n",
    "\n",
    "    # targets\n",
    "    Y = np.array([0]*1000 + [1]*1000 + [2]*1000 + [0]*1000 + [3]*1000 + [2]*1000)\n",
    "    return X, Y\n",
    "\n",
    "X,y=get_spiral()\n",
    "\n",
    "plt.scatter(X[:,0],X[:,1],c=y)\n",
    "plt.show()\n",
    "\n",
    "## Processing the Data\n",
    "\n",
    "def one_hot_encoder(X):\n",
    "    N=X.shape[0]\n",
    "    K=len(np.unique(X))\n",
    "    Z=np.zeros((N,K))\n",
    "    for i in range(N):\n",
    "        c=int(X[i])\n",
    "        Z[i,c]=1\n",
    "    return Z\n",
    "y_i=one_hot_encoder(y)\n",
    "\n",
    "def standardize(X):\n",
    "    stds=X.std(axis=0)\n",
    "    means=X.mean(axis=0)\n",
    "    X=(X-means)/stds\n",
    "    return X,means,stds\n",
    "\n",
    "X_s,m,s=standardize(X)\n",
    "\n",
    "def train_test_split(X,y,size=0.8,rs=None):\n",
    "    N=len(X)\n",
    "    np.random.seed(rs)\n",
    "    tr_i=np.random.choice(N,int(size*N),replace=False)\n",
    "    t_i=[i for i in range(N) if i not in tr_i]\n",
    "    X_train=X[tr_i]\n",
    "    y_train=y[tr_i]\n",
    "    X_test=X[t_i]\n",
    "    y_test=y[t_i]\n",
    "    return X_train,y_train,X_test,y_test\n",
    "X_train,y_train,X_test,y_test=train_test_split(X_s,y,size=0.9,rs=20)\n",
    "\n",
    "X_train=X_train.astype(np.float32)\n",
    "y_train=y_train.astype(np.float32)\n",
    "X_test=X_test.astype(np.float32)\n",
    "y_test=y_test.astype(np.float32)\n",
    "\n",
    "X_train.shape"
   ]
  },
  {
   "cell_type": "code",
   "execution_count": 2,
   "metadata": {},
   "outputs": [
    {
     "name": "stderr",
     "output_type": "stream",
     "text": [
      "C:\\Users\\ytnvj\\Anaconda3\\lib\\site-packages\\h5py\\__init__.py:36: FutureWarning: Conversion of the second argument of issubdtype from `float` to `np.floating` is deprecated. In future, it will be treated as `np.float64 == np.dtype(float).type`.\n",
      "  from ._conv import register_converters as _register_converters\n"
     ]
    }
   ],
   "source": [
    "import tensorflow as tf"
   ]
  },
  {
   "cell_type": "code",
   "execution_count": 71,
   "metadata": {},
   "outputs": [],
   "source": [
    "class HiddenLayer(object):\n",
    "    def __init__(self,i,M1,M2,decay=0.999,af='relu',rs=None):\n",
    "        self.id=i\n",
    "        self.M1=M1\n",
    "        self.M2=M2\n",
    "        self.af=af\n",
    "        self.decay=decay\n",
    "        self.W=tf.Variable(tf.random_normal(shape=[M1,M2],stddev=np.sqrt(M1),seed=rs,dtype=tf.float32))\n",
    "        self.beta=tf.Variable(tf.zeros(shape=[M2],dtype=tf.float32))\n",
    "        self.gamma=tf.Variable(tf.ones(shape=[M2],dtype=tf.float32))\n",
    "        self.r_m=tf.Variable(tf.zeros(shape=[M2],dtype=tf.float32),trainable=False)\n",
    "        self.r_v=tf.Variable(tf.zeros(shape=[M2],dtype=tf.float32),trainable=False)\n",
    "        \n",
    "    def forward(self,X,type='train'):\n",
    "        if type=='train':\n",
    "            b_m,b_v=tf.nn.moments(tf.matmul(X,self.W),axes=0)\n",
    "            update_m=tf.assign(self.r_m,(self.decay*self.r_m+b_m*(1-self.decay)))\n",
    "            update_v=tf.assign(self.r_v,(self.decay*self.r_v+b_v*(1-self.decay)))\n",
    "            with tf.control_dependencies([update_m,update_v]):\n",
    "                    z=tf.nn.batch_normalization(tf.matmul(X,self.W),b_m,b_v,self.beta,self.gamma,variance_epsilon=1e-10)\n",
    "        else:\n",
    "            z=tf.nn.batch_normalization(tf.matmul(X,self.W),self.r_m,self.r_v,self.beta,self.gamma,variance_epsilon=1e-10)\n",
    "        if self.af=='tanh':\n",
    "            return tf.nn.tanh(z)\n",
    "        if self.af=='sigmoid':\n",
    "            return tf.nn.sigmoid(z)\n",
    "        if self.af=='relu':\n",
    "            return tf.nn.relu(z)\n",
    "        if self.af=='leaky-relu':\n",
    "            return tf.nn.leaky_relu(z)"
   ]
  },
  {
   "cell_type": "code",
   "execution_count": 105,
   "metadata": {},
   "outputs": [],
   "source": [
    "class ANN(object):\n",
    "    def __init__(self,hidden_layer_size,K,decay=0.999):\n",
    "        self.hidden_layer_size=hidden_layer_size\n",
    "        self.decay=decay\n",
    "        self.beta=tf.Variable(np.zeros(shape=[K],dtype=np.float32))\n",
    "        self.gamma=tf.Variable(np.ones(shape=[K],dtype=np.float32))\n",
    "        self.r_m=tf.Variable(np.zeros(shape=[K],dtype=np.float32),trainable=False)\n",
    "        self.r_v=tf.Variable(np.zeros(shape=[K],dtype=np.float32),trainable=False)\n",
    "    def forward(self,X,type='train'):\n",
    "        z=X\n",
    "        if type=='train':\n",
    "            for h in self.hidden_layers:\n",
    "                    z=h.forward(z,type)\n",
    "            b_m,b_v=tf.nn.moments(tf.matmul(z,self.W),axes=0)\n",
    "            update_m=tf.assign(self.r_m,(self.decay*self.r_m+(1-self.decay)*b_m))\n",
    "            update_v=tf.assign(self.r_v,(self.decay*self.r_v+(1-self.decay)*b_v))\n",
    "            with tf.control_dependencies([update_m,update_v]):\n",
    "                    z=tf.nn.batch_normalization(tf.matmul(z,self.W),b_m,b_v,self.beta,self.gamma,variance_epsilon=1e-10)\n",
    "        else:\n",
    "            for h in self.hidden_layers:\n",
    "                    z=h.forward(z,type)\n",
    "            z=tf.nn.batch_normalization(tf.matmul(z,self.W),self.r_m,self.r_v,self.beta,self.gamma,variance_epsilon=1e-10)\n",
    "        return z\n",
    "    \n",
    "    def predict(self,X):\n",
    "        p=self.forward(X,'pred')\n",
    "        return tf.argmax(p,axis=1)\n",
    "    \n",
    "    def fit(self,X,y,mu=0.95,decay=0.999,e=1e-10,lr=0.001,epochs=1000,af=None,fig=True,batch_size=2900,n_batch=10,random_state=None):\n",
    "        y=one_hot_encoder(y)\n",
    "        if af==None:\n",
    "            af=len(self.hidden_layer_size)*['relu']\n",
    "        X_t,y_t,X_v,y_v=train_test_split(X,y,size=0.9,rs=random_state)\n",
    "        c_t=[]\n",
    "        c_v=[]\n",
    "        cl_t=[]\n",
    "        cl_v=[]\n",
    "        N,D=X_t.shape\n",
    "        self.hidden_layers=[]\n",
    "        M1=D\n",
    "        cnt=0\n",
    "        for M2,a in zip(self.hidden_layer_size,af):\n",
    "            h=HiddenLayer(i=cnt,M1=M1,M2=M2,af=a,rs=random_state)\n",
    "            self.hidden_layers.append(h)\n",
    "            M1=M2\n",
    "            cnt+=1\n",
    "        M2=y.shape[1]\n",
    "        self.W=tf.Variable(tf.random_normal([M1,M2],stddev=np.sqrt(M1),seed=random_state,dtype=tf.float32))\n",
    "        tfX=tf.placeholder(tf.float32,shape=[None,D])\n",
    "        tfY=tf.placeholder(tf.float32,shape=[None,M2])\n",
    "        y_p=self.forward(tfX)\n",
    "        cost=tf.reduce_mean(tf.nn.softmax_cross_entropy_with_logits_v2(logits=y_p,labels=tfY))\n",
    "        preds=self.predict(tfX)\n",
    "        optimizer=tf.train.RMSPropOptimizer(lr,decay,mu,epsilon=e)\n",
    "        train=optimizer.minimize(cost)\n",
    "        with tf.Session() as s:\n",
    "            s.run(tf.global_variables_initializer())\n",
    "            for i in range(epochs):\n",
    "                for j in range(n_batch):\n",
    "                    x=X_t[j*batch_size:(j*batch_size+batch_size)]\n",
    "                    yb=y_t[j*batch_size:j*batch_size+batch_size]\n",
    "                    c_t.append(s.run(cost,feed_dict={tfX:x,tfY:yb}))\n",
    "                    c_v.append(s.run(cost,feed_dict={tfX:X_v,tfY:y_v}))\n",
    "                    cl_t.append(np.mean(s.run(preds,feed_dict={tfX:x})==np.argmax(yb,axis=1)))               \n",
    "                    cl_v.append(np.mean(s.run(preds,feed_dict={tfX:X_v})==np.argmax(y_v,axis=1)))    \n",
    "                    s.run(train,feed_dict={tfX:x,tfY:yb}) \n",
    "                if i%100==0:\n",
    "                    print('Epoch {0} Train C: {1} Cl: {2} Test C: {3} Cl:{4}'.format(i,c_t[i],cl_t[i],c_v[i],cl_v[i]))\n",
    "            a=s.run(self.params)\n",
    "        if fig==True:\n",
    "            plt.plot(c_t,label='Train Cost')\n",
    "            plt.plot(c_v,label='Test Cost')\n",
    "            plt.legend()\n",
    "            plt.show()\n",
    "            plt.plot(cl_t,label='Train Classification')\n",
    "            plt.plot(cl_v,label='Test Classification')\n",
    "            plt.legend()\n",
    "            plt.show()"
   ]
  },
  {
   "cell_type": "code",
   "execution_count": 106,
   "metadata": {},
   "outputs": [],
   "source": [
    "ann=ANN((500,300),K=len(set(y_train)))"
   ]
  },
  {
   "cell_type": "code",
   "execution_count": 107,
   "metadata": {},
   "outputs": [
    {
     "name": "stdout",
     "output_type": "stream",
     "text": [
      "Epoch 0 Train C: 1.569368839263916 Cl: 0.17142857142857143 Test C: 1.5102715492248535 Cl:0.1925925925925926\n",
      "Epoch 100 Train C: 0.08488176763057709 Cl: 0.32653061224489793 Test C: 0.07383372634649277 Cl:0.3888888888888889\n",
      "Epoch 200 Train C: 0.06901418417692184 Cl: 0.42857142857142855 Test C: 0.07009966671466827 Cl:0.5111111111111111\n",
      "Epoch 300 Train C: 0.06415177136659622 Cl: 0.7693877551020408 Test C: 0.0686454027891159 Cl:0.7611111111111111\n",
      "Epoch 400 Train C: 0.06240830197930336 Cl: 0.9142857142857143 Test C: 0.06831113994121552 Cl:0.9055555555555556\n",
      "Epoch 500 Train C: 0.06194544956088066 Cl: 0.963265306122449 Test C: 0.06925782561302185 Cl:0.9648148148148148\n",
      "Epoch 600 Train C: 0.06184301897883415 Cl: 0.9714285714285714 Test C: 0.07022148370742798 Cl:0.9740740740740741\n",
      "Epoch 700 Train C: 0.06049348786473274 Cl: 0.9714285714285714 Test C: 0.07072646170854568 Cl:0.9685185185185186\n",
      "Epoch 800 Train C: 0.06136244907975197 Cl: 0.9714285714285714 Test C: 0.07192600518465042 Cl:0.9685185185185186\n",
      "Epoch 900 Train C: 0.061469078063964844 Cl: 0.9734693877551021 Test C: 0.07377266138792038 Cl:0.9703703703703703\n"
     ]
    },
    {
     "ename": "AttributeError",
     "evalue": "'ANN' object has no attribute 'params'",
     "output_type": "error",
     "traceback": [
      "\u001b[1;31m---------------------------------------------------------------------------\u001b[0m",
      "\u001b[1;31mAttributeError\u001b[0m                            Traceback (most recent call last)",
      "\u001b[1;32m<ipython-input-107-74a4fdcaacf7>\u001b[0m in \u001b[0;36m<module>\u001b[1;34m()\u001b[0m\n\u001b[1;32m----> 1\u001b[1;33m \u001b[0mann\u001b[0m\u001b[1;33m.\u001b[0m\u001b[0mfit\u001b[0m\u001b[1;33m(\u001b[0m\u001b[0mX_train\u001b[0m\u001b[1;33m,\u001b[0m\u001b[0my_train\u001b[0m\u001b[1;33m,\u001b[0m\u001b[0mlr\u001b[0m\u001b[1;33m=\u001b[0m\u001b[1;36m0.1\u001b[0m\u001b[1;33m,\u001b[0m\u001b[0mepochs\u001b[0m\u001b[1;33m=\u001b[0m\u001b[1;36m1000\u001b[0m\u001b[1;33m,\u001b[0m\u001b[0mbatch_size\u001b[0m\u001b[1;33m=\u001b[0m\u001b[1;36m490\u001b[0m\u001b[1;33m,\u001b[0m\u001b[0mn_batch\u001b[0m\u001b[1;33m=\u001b[0m\u001b[1;36m10\u001b[0m\u001b[1;33m)\u001b[0m\u001b[1;33m\u001b[0m\u001b[0m\n\u001b[0m",
      "\u001b[1;32m<ipython-input-105-e96a797e4f42>\u001b[0m in \u001b[0;36mfit\u001b[1;34m(self, X, y, mu, decay, e, lr, epochs, af, fig, batch_size, n_batch, random_state)\u001b[0m\n\u001b[0;32m     72\u001b[0m                 \u001b[1;32mif\u001b[0m \u001b[0mi\u001b[0m\u001b[1;33m%\u001b[0m\u001b[1;36m100\u001b[0m\u001b[1;33m==\u001b[0m\u001b[1;36m0\u001b[0m\u001b[1;33m:\u001b[0m\u001b[1;33m\u001b[0m\u001b[0m\n\u001b[0;32m     73\u001b[0m                     \u001b[0mprint\u001b[0m\u001b[1;33m(\u001b[0m\u001b[1;34m'Epoch {0} Train C: {1} Cl: {2} Test C: {3} Cl:{4}'\u001b[0m\u001b[1;33m.\u001b[0m\u001b[0mformat\u001b[0m\u001b[1;33m(\u001b[0m\u001b[0mi\u001b[0m\u001b[1;33m,\u001b[0m\u001b[0mc_t\u001b[0m\u001b[1;33m[\u001b[0m\u001b[0mi\u001b[0m\u001b[1;33m]\u001b[0m\u001b[1;33m,\u001b[0m\u001b[0mcl_t\u001b[0m\u001b[1;33m[\u001b[0m\u001b[0mi\u001b[0m\u001b[1;33m]\u001b[0m\u001b[1;33m,\u001b[0m\u001b[0mc_v\u001b[0m\u001b[1;33m[\u001b[0m\u001b[0mi\u001b[0m\u001b[1;33m]\u001b[0m\u001b[1;33m,\u001b[0m\u001b[0mcl_v\u001b[0m\u001b[1;33m[\u001b[0m\u001b[0mi\u001b[0m\u001b[1;33m]\u001b[0m\u001b[1;33m)\u001b[0m\u001b[1;33m)\u001b[0m\u001b[1;33m\u001b[0m\u001b[0m\n\u001b[1;32m---> 74\u001b[1;33m             \u001b[0ma\u001b[0m\u001b[1;33m=\u001b[0m\u001b[0ms\u001b[0m\u001b[1;33m.\u001b[0m\u001b[0mrun\u001b[0m\u001b[1;33m(\u001b[0m\u001b[0mself\u001b[0m\u001b[1;33m.\u001b[0m\u001b[0mparams\u001b[0m\u001b[1;33m)\u001b[0m\u001b[1;33m\u001b[0m\u001b[0m\n\u001b[0m\u001b[0;32m     75\u001b[0m         \u001b[1;32mif\u001b[0m \u001b[0mfig\u001b[0m\u001b[1;33m==\u001b[0m\u001b[1;32mTrue\u001b[0m\u001b[1;33m:\u001b[0m\u001b[1;33m\u001b[0m\u001b[0m\n\u001b[0;32m     76\u001b[0m             \u001b[0mplt\u001b[0m\u001b[1;33m.\u001b[0m\u001b[0mplot\u001b[0m\u001b[1;33m(\u001b[0m\u001b[0mc_t\u001b[0m\u001b[1;33m,\u001b[0m\u001b[0mlabel\u001b[0m\u001b[1;33m=\u001b[0m\u001b[1;34m'Train Cost'\u001b[0m\u001b[1;33m)\u001b[0m\u001b[1;33m\u001b[0m\u001b[0m\n",
      "\u001b[1;31mAttributeError\u001b[0m: 'ANN' object has no attribute 'params'"
     ]
    }
   ],
   "source": [
    "ann.fit(X_train,y_train,lr=0.1,epochs=1000,batch_size=490,n_batch=10)"
   ]
  },
  {
   "cell_type": "code",
   "execution_count": 99,
   "metadata": {},
   "outputs": [],
   "source": [
    "tfX=tf.placeholder(tf.float32)\n",
    "pred=ann.predict(tfX)\n",
    "with tf.Session() as s:\n",
    "    s.run(tf.global_variables_initializer())\n",
    "    a=s.run(pred,feed_dict={tfX:X_test})"
   ]
  },
  {
   "cell_type": "code",
   "execution_count": 100,
   "metadata": {},
   "outputs": [
    {
     "data": {
      "text/plain": [
       "0.17"
      ]
     },
     "execution_count": 100,
     "metadata": {},
     "output_type": "execute_result"
    }
   ],
   "source": [
    "ann.predict()"
   ]
  },
  {
   "cell_type": "code",
   "execution_count": 27,
   "metadata": {},
   "outputs": [],
   "source": [
    "x1=np.array([[1,2],[2,4]])\n",
    "x2=np.array([[1,2]])"
   ]
  },
  {
   "cell_type": "code",
   "execution_count": 28,
   "metadata": {},
   "outputs": [
    {
     "data": {
      "text/plain": [
       "array([[2, 4],\n",
       "       [3, 6]])"
      ]
     },
     "execution_count": 28,
     "metadata": {},
     "output_type": "execute_result"
    }
   ],
   "source": [
    "x1+x2"
   ]
  }
 ],
 "metadata": {
  "kernelspec": {
   "display_name": "Python 3",
   "language": "python",
   "name": "python3"
  },
  "language_info": {
   "codemirror_mode": {
    "name": "ipython",
    "version": 3
   },
   "file_extension": ".py",
   "mimetype": "text/x-python",
   "name": "python",
   "nbconvert_exporter": "python",
   "pygments_lexer": "ipython3",
   "version": "3.6.5"
  }
 },
 "nbformat": 4,
 "nbformat_minor": 2
}
