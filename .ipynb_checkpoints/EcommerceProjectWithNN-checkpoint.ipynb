{
 "cells": [
  {
   "cell_type": "code",
   "execution_count": 212,
   "metadata": {},
   "outputs": [],
   "source": [
    "import matplotlib.pyplot as plt"
   ]
  },
  {
   "cell_type": "code",
   "execution_count": 139,
   "metadata": {},
   "outputs": [],
   "source": [
    "import pandas as pd\n",
    "import numpy as np\n",
    "df=pd.read_csv('ecommerce_data.csv')"
   ]
  },
  {
   "cell_type": "code",
   "execution_count": 140,
   "metadata": {},
   "outputs": [
    {
     "data": {
      "text/html": [
       "<div>\n",
       "<style scoped>\n",
       "    .dataframe tbody tr th:only-of-type {\n",
       "        vertical-align: middle;\n",
       "    }\n",
       "\n",
       "    .dataframe tbody tr th {\n",
       "        vertical-align: top;\n",
       "    }\n",
       "\n",
       "    .dataframe thead th {\n",
       "        text-align: right;\n",
       "    }\n",
       "</style>\n",
       "<table border=\"1\" class=\"dataframe\">\n",
       "  <thead>\n",
       "    <tr style=\"text-align: right;\">\n",
       "      <th></th>\n",
       "      <th>is_mobile</th>\n",
       "      <th>n_products_viewed</th>\n",
       "      <th>visit_duration</th>\n",
       "      <th>is_returning_visitor</th>\n",
       "      <th>time_of_day</th>\n",
       "      <th>user_action</th>\n",
       "    </tr>\n",
       "  </thead>\n",
       "  <tbody>\n",
       "    <tr>\n",
       "      <th>0</th>\n",
       "      <td>1</td>\n",
       "      <td>0</td>\n",
       "      <td>0.657510</td>\n",
       "      <td>0</td>\n",
       "      <td>3</td>\n",
       "      <td>0</td>\n",
       "    </tr>\n",
       "    <tr>\n",
       "      <th>1</th>\n",
       "      <td>1</td>\n",
       "      <td>1</td>\n",
       "      <td>0.568571</td>\n",
       "      <td>0</td>\n",
       "      <td>2</td>\n",
       "      <td>1</td>\n",
       "    </tr>\n",
       "    <tr>\n",
       "      <th>2</th>\n",
       "      <td>1</td>\n",
       "      <td>0</td>\n",
       "      <td>0.042246</td>\n",
       "      <td>1</td>\n",
       "      <td>1</td>\n",
       "      <td>0</td>\n",
       "    </tr>\n",
       "    <tr>\n",
       "      <th>3</th>\n",
       "      <td>1</td>\n",
       "      <td>1</td>\n",
       "      <td>1.659793</td>\n",
       "      <td>1</td>\n",
       "      <td>1</td>\n",
       "      <td>2</td>\n",
       "    </tr>\n",
       "    <tr>\n",
       "      <th>4</th>\n",
       "      <td>0</td>\n",
       "      <td>1</td>\n",
       "      <td>2.014745</td>\n",
       "      <td>1</td>\n",
       "      <td>1</td>\n",
       "      <td>2</td>\n",
       "    </tr>\n",
       "  </tbody>\n",
       "</table>\n",
       "</div>"
      ],
      "text/plain": [
       "   is_mobile  n_products_viewed  visit_duration  is_returning_visitor  \\\n",
       "0          1                  0        0.657510                     0   \n",
       "1          1                  1        0.568571                     0   \n",
       "2          1                  0        0.042246                     1   \n",
       "3          1                  1        1.659793                     1   \n",
       "4          0                  1        2.014745                     1   \n",
       "\n",
       "   time_of_day  user_action  \n",
       "0            3            0  \n",
       "1            2            1  \n",
       "2            1            0  \n",
       "3            1            2  \n",
       "4            1            2  "
      ]
     },
     "execution_count": 140,
     "metadata": {},
     "output_type": "execute_result"
    }
   ],
   "source": [
    "D=5\n",
    "N=len(df)\n",
    "df.head()"
   ]
  },
  {
   "cell_type": "code",
   "execution_count": 141,
   "metadata": {},
   "outputs": [],
   "source": [
    "X=df.iloc[:,:-2].values\n",
    "y=df.iloc[:,-1].values"
   ]
  },
  {
   "cell_type": "code",
   "execution_count": 142,
   "metadata": {},
   "outputs": [],
   "source": [
    "# Feature Scaling\n",
    "X[:,1]=(X[:,1]-X[:,1].mean())/X[:,1].std()\n",
    "X[:,2]=(X[:,2]-X[:,2].mean())/X[:,2].std()"
   ]
  },
  {
   "cell_type": "code",
   "execution_count": 143,
   "metadata": {
    "scrolled": true
   },
   "outputs": [
    {
     "data": {
      "text/plain": [
       "0      3\n",
       "1      2\n",
       "2      1\n",
       "3      1\n",
       "4      1\n",
       "5      1\n",
       "6      1\n",
       "7      3\n",
       "8      0\n",
       "9      3\n",
       "10     0\n",
       "11     3\n",
       "12     0\n",
       "13     3\n",
       "14     3\n",
       "15     2\n",
       "16     0\n",
       "17     2\n",
       "18     1\n",
       "19     3\n",
       "20     1\n",
       "21     0\n",
       "22     3\n",
       "23     0\n",
       "24     2\n",
       "25     3\n",
       "26     1\n",
       "27     3\n",
       "28     1\n",
       "29     0\n",
       "      ..\n",
       "470    0\n",
       "471    0\n",
       "472    2\n",
       "473    2\n",
       "474    3\n",
       "475    0\n",
       "476    0\n",
       "477    0\n",
       "478    2\n",
       "479    3\n",
       "480    2\n",
       "481    0\n",
       "482    1\n",
       "483    0\n",
       "484    3\n",
       "485    0\n",
       "486    0\n",
       "487    3\n",
       "488    0\n",
       "489    2\n",
       "490    1\n",
       "491    3\n",
       "492    2\n",
       "493    2\n",
       "494    1\n",
       "495    0\n",
       "496    3\n",
       "497    3\n",
       "498    3\n",
       "499    3\n",
       "Name: time_of_day, Length: 500, dtype: int64"
      ]
     },
     "execution_count": 143,
     "metadata": {},
     "output_type": "execute_result"
    }
   ],
   "source": [
    "df['time_of_day']"
   ]
  },
  {
   "cell_type": "code",
   "execution_count": 144,
   "metadata": {},
   "outputs": [],
   "source": [
    "def one_hot_encoder(X):\n",
    "    N=len(X)\n",
    "    D=len(np.unique(X))\n",
    "    Z=np.zeros((N,D))\n",
    "    for i in range(N):\n",
    "        c=int(X[i])\n",
    "        Z[i,c]=1\n",
    "    return Z\n",
    "X4=one_hot_encoder(df.iloc[:,-2].values)\n",
    "X=np.concatenate((X,X4),axis=1)\n"
   ]
  },
  {
   "cell_type": "code",
   "execution_count": 92,
   "metadata": {},
   "outputs": [
    {
     "data": {
      "text/plain": [
       "(500, 8)"
      ]
     },
     "execution_count": 92,
     "metadata": {},
     "output_type": "execute_result"
    }
   ],
   "source": [
    "X.shape"
   ]
  },
  {
   "cell_type": "code",
   "execution_count": 93,
   "metadata": {},
   "outputs": [],
   "source": [
    "M=3\n",
    "K=len(np.unique(y))\n",
    "def sigmoid(z):\n",
    "    return (1/(1+np.exp(-z)))\n",
    "def feed_forward(X,W1,b1,W2,b2):\n",
    "    Z=sigmoid(X.dot(W1)+b1)\n",
    "    A=Z.dot(W2) + b2\n",
    "    expa=np.exp(A)\n",
    "    y=expa/expa.sum(axis=1,keepdims=True)\n",
    "    return y\n",
    "def class_rate(y,y_p):\n",
    "    n_c=0\n",
    "    n_t=0\n",
    "    for i in range(len(y)):\n",
    "        n_t+=1\n",
    "        if y[i]==y_p[i]:\n",
    "            n_c+=1\n",
    "    return n_c/n_t"
   ]
  },
  {
   "cell_type": "code",
   "execution_count": 145,
   "metadata": {},
   "outputs": [
    {
     "data": {
      "text/plain": [
       "0.152"
      ]
     },
     "execution_count": 145,
     "metadata": {},
     "output_type": "execute_result"
    }
   ],
   "source": [
    "W1=np.random.randn(D+3,M)\n",
    "b1=np.random.randn(M)\n",
    "W2=np.random.randn(M,K)\n",
    "b2=np.random.randn(K)\n",
    "p_y_x=feed_forward(X,W1,b1,W2,b2)\n",
    "y_p=p_y_x.argmax(axis=1)\n",
    "class_rate(y,y_p)"
   ]
  },
  {
   "cell_type": "code",
   "execution_count": 146,
   "metadata": {},
   "outputs": [
    {
     "data": {
      "text/plain": [
       "array([2, 2, 2, 1, 2, 2, 2, 2, 2, 2, 2, 2, 2, 2, 2, 2, 2, 2, 2, 2, 2, 2,\n",
       "       2, 2, 2, 2, 2, 2, 2, 2, 2, 2, 2, 2, 2, 2, 2, 2, 2, 2, 2, 2, 2, 2,\n",
       "       2, 2, 2, 2, 2, 2, 2, 2, 2, 2, 2, 2, 2, 2, 2, 2, 2, 2, 2, 2, 2, 2,\n",
       "       2, 2, 2, 2, 2, 2, 2, 2, 2, 2, 2, 2, 2, 2, 2, 2, 2, 2, 2, 2, 2, 2,\n",
       "       2, 2, 2, 2, 2, 2, 2, 2, 2, 2, 2, 2, 2, 2, 2, 2, 2, 2, 2, 2, 2, 2,\n",
       "       2, 1, 2, 2, 2, 2, 2, 2, 2, 2, 2, 2, 2, 2, 2, 2, 2, 2, 2, 2, 2, 2,\n",
       "       2, 2, 2, 2, 2, 2, 2, 2, 2, 2, 2, 2, 2, 2, 2, 2, 2, 2, 2, 2, 2, 2,\n",
       "       2, 2, 2, 2, 2, 2, 2, 2, 2, 2, 2, 2, 2, 2, 2, 2, 2, 2, 2, 2, 2, 2,\n",
       "       2, 2, 2, 2, 2, 2, 2, 2, 2, 2, 2, 2, 2, 2, 2, 2, 2, 2, 2, 2, 2, 2,\n",
       "       2, 2, 2, 2, 2, 2, 2, 2, 2, 2, 2, 2, 2, 2, 2, 2, 2, 2, 2, 2, 1, 2,\n",
       "       2, 2, 2, 2, 2, 2, 2, 2, 2, 2, 2, 2, 2, 2, 2, 2, 2, 2, 2, 2, 2, 2,\n",
       "       2, 2, 2, 2, 2, 2, 2, 2, 2, 2, 2, 2, 2, 2, 2, 2, 2, 2, 1, 2, 2, 2,\n",
       "       2, 2, 2, 2, 2, 2, 2, 2, 2, 2, 2, 2, 2, 2, 2, 2, 2, 2, 2, 2, 2, 2,\n",
       "       2, 2, 2, 2, 2, 2, 2, 2, 2, 2, 2, 2, 2, 2, 2, 2, 2, 2, 2, 2, 2, 2,\n",
       "       2, 2, 2, 2, 2, 2, 2, 2, 2, 2, 2, 2, 2, 2, 2, 2, 2, 2, 2, 2, 2, 2,\n",
       "       2, 2, 2, 2, 2, 2, 2, 2, 2, 2, 2, 2, 2, 2, 2, 2, 2, 2, 2, 2, 2, 2,\n",
       "       2, 2, 2, 2, 2, 2, 2, 2, 2, 2, 2, 2, 2, 2, 2, 2, 2, 2, 2, 2, 2, 2,\n",
       "       2, 2, 2, 2, 2, 2, 2, 2, 2, 2, 2, 2, 2, 2, 2, 2, 2, 2, 2, 2, 2, 2,\n",
       "       2, 2, 2, 2, 2, 2, 2, 2, 2, 2, 2, 1, 2, 2, 2, 2, 2, 2, 2, 1, 2, 2,\n",
       "       2, 2, 2, 2, 2, 2, 2, 2, 2, 2, 2, 2, 2, 2, 2, 2, 2, 2, 2, 2, 2, 2,\n",
       "       2, 2, 2, 2, 2, 2, 2, 2, 2, 2, 2, 2, 2, 2, 2, 2, 2, 2, 2, 2, 2, 2,\n",
       "       2, 2, 2, 2, 2, 2, 2, 2, 2, 2, 2, 2, 2, 2, 2, 2, 2, 2, 2, 2, 2, 2,\n",
       "       2, 2, 2, 2, 2, 2, 2, 2, 2, 2, 2, 2, 2, 2, 2, 2], dtype=int64)"
      ]
     },
     "execution_count": 146,
     "metadata": {},
     "output_type": "execute_result"
    }
   ],
   "source": [
    "y_p"
   ]
  },
  {
   "cell_type": "code",
   "execution_count": 147,
   "metadata": {},
   "outputs": [
    {
     "data": {
      "text/plain": [
       "array([0, 1, 0, 2, 2, 2, 0, 0, 1, 0, 3, 0, 0, 1, 0, 3, 1, 1, 1, 0, 2, 0,\n",
       "       0, 3, 0, 1, 0, 0, 2, 2, 0, 1, 2, 2, 1, 0, 0, 1, 1, 0, 2, 1, 0, 1,\n",
       "       3, 0, 1, 0, 0, 1, 2, 3, 1, 2, 1, 1, 0, 0, 1, 1, 0, 0, 1, 0, 0, 1,\n",
       "       1, 1, 1, 1, 0, 0, 0, 0, 0, 0, 1, 2, 0, 2, 0, 0, 0, 0, 0, 0, 0, 0,\n",
       "       2, 3, 0, 2, 1, 1, 3, 1, 0, 3, 0, 2, 0, 2, 0, 1, 0, 1, 0, 0, 1, 0,\n",
       "       2, 3, 1, 0, 0, 1, 0, 0, 1, 0, 2, 0, 1, 0, 1, 1, 2, 0, 0, 0, 0, 0,\n",
       "       1, 0, 1, 0, 0, 2, 2, 0, 0, 2, 0, 0, 0, 1, 2, 1, 2, 0, 2, 2, 0, 2,\n",
       "       2, 0, 0, 0, 3, 1, 1, 1, 0, 0, 1, 1, 0, 2, 0, 0, 0, 0, 0, 2, 0, 1,\n",
       "       0, 1, 0, 0, 0, 2, 0, 1, 0, 2, 1, 1, 0, 1, 2, 0, 0, 0, 0, 3, 0, 1,\n",
       "       0, 0, 0, 0, 1, 0, 3, 0, 2, 0, 0, 1, 0, 1, 0, 0, 0, 0, 1, 1, 3, 3,\n",
       "       1, 0, 1, 1, 1, 0, 1, 0, 1, 1, 1, 0, 0, 0, 0, 0, 1, 0, 1, 1, 2, 0,\n",
       "       0, 1, 2, 0, 2, 0, 0, 1, 3, 1, 2, 0, 2, 0, 0, 0, 1, 0, 0, 0, 0, 0,\n",
       "       0, 1, 3, 0, 0, 1, 0, 2, 2, 1, 0, 2, 0, 0, 3, 2, 1, 0, 3, 0, 0, 1,\n",
       "       0, 2, 0, 1, 0, 1, 0, 1, 0, 0, 1, 0, 1, 1, 0, 2, 1, 1, 0, 0, 1, 0,\n",
       "       2, 0, 0, 2, 0, 1, 1, 1, 1, 2, 1, 1, 1, 1, 0, 0, 0, 0, 2, 1, 1, 0,\n",
       "       1, 1, 0, 0, 0, 0, 1, 0, 0, 1, 0, 2, 0, 0, 0, 1, 0, 1, 0, 0, 1, 1,\n",
       "       1, 0, 0, 0, 0, 1, 1, 1, 0, 0, 0, 1, 0, 1, 2, 1, 0, 0, 0, 2, 3, 2,\n",
       "       0, 2, 0, 2, 0, 0, 0, 1, 2, 3, 1, 1, 1, 2, 3, 0, 1, 0, 0, 0, 0, 1,\n",
       "       0, 1, 1, 0, 1, 0, 1, 0, 2, 0, 1, 0, 2, 2, 1, 0, 2, 0, 1, 0, 0, 0,\n",
       "       0, 2, 1, 0, 0, 0, 1, 2, 0, 1, 0, 0, 0, 0, 2, 2, 0, 2, 2, 3, 1, 0,\n",
       "       0, 2, 0, 0, 3, 0, 0, 2, 0, 0, 1, 0, 2, 1, 1, 0, 1, 0, 0, 0, 1, 0,\n",
       "       0, 0, 0, 1, 1, 1, 0, 1, 0, 0, 2, 0, 2, 0, 3, 0, 0, 0, 0, 0, 2, 2,\n",
       "       1, 1, 1, 0, 1, 1, 3, 0, 0, 0, 2, 2, 0, 0, 0, 0], dtype=int64)"
      ]
     },
     "execution_count": 147,
     "metadata": {},
     "output_type": "execute_result"
    }
   ],
   "source": [
    "y"
   ]
  },
  {
   "cell_type": "code",
   "execution_count": 148,
   "metadata": {},
   "outputs": [
    {
     "data": {
      "text/plain": [
       "array([[0.04466405, 0.09509147, 0.83902649, 0.02121799],\n",
       "       [0.05614452, 0.22168995, 0.69064607, 0.03151947],\n",
       "       [0.12203651, 0.2703407 , 0.52053015, 0.08709263],\n",
       "       ...,\n",
       "       [0.03863306, 0.05277941, 0.89102515, 0.01756238],\n",
       "       [0.04188285, 0.08517178, 0.85367231, 0.01927306],\n",
       "       [0.0626669 , 0.10108049, 0.80153059, 0.03472203]])"
      ]
     },
     "execution_count": 148,
     "metadata": {},
     "output_type": "execute_result"
    }
   ],
   "source": [
    "p_y_x"
   ]
  },
  {
   "cell_type": "code",
   "execution_count": 149,
   "metadata": {},
   "outputs": [
    {
     "data": {
      "text/plain": [
       "array([[ 1.43692781,  0.52802463, -1.39788608],\n",
       "       [ 2.84471152, -1.2716656 , -2.37587901],\n",
       "       [-2.07491232, -0.07898214, -1.1572084 ],\n",
       "       ...,\n",
       "       [ 0.94429682,  1.70394287, -0.63155312],\n",
       "       [ 1.64848013,  0.6692829 , -1.41423857],\n",
       "       [-0.21098201,  0.93253706, -0.5422528 ]])"
      ]
     },
     "execution_count": 149,
     "metadata": {},
     "output_type": "execute_result"
    }
   ],
   "source": [
    "a=X.dot(W1)\n",
    "a"
   ]
  },
  {
   "cell_type": "code",
   "execution_count": 150,
   "metadata": {},
   "outputs": [
    {
     "data": {
      "text/plain": [
       "array([[ 0.37393652,  0.85790291, -0.99163654],\n",
       "       [ 1.78172023, -0.94178732, -1.96962947],\n",
       "       [-3.13790362,  0.25089614, -0.75095886],\n",
       "       ...,\n",
       "       [-0.11869447,  2.03382115, -0.22530358],\n",
       "       [ 0.58548884,  0.99916117, -1.00798903],\n",
       "       [-1.2739733 ,  1.26241534, -0.13600326]])"
      ]
     },
     "execution_count": 150,
     "metadata": {},
     "output_type": "execute_result"
    }
   ],
   "source": [
    "a-b1"
   ]
  },
  {
   "cell_type": "code",
   "execution_count": 151,
   "metadata": {},
   "outputs": [
    {
     "data": {
      "text/plain": [
       "array([ 1.06299129, -0.32987828, -0.40624954])"
      ]
     },
     "execution_count": 151,
     "metadata": {},
     "output_type": "execute_result"
    }
   ],
   "source": [
    "b1"
   ]
  },
  {
   "cell_type": "code",
   "execution_count": 103,
   "metadata": {},
   "outputs": [],
   "source": [
    "Y=one_hot_encoder(y)"
   ]
  },
  {
   "cell_type": "code",
   "execution_count": 183,
   "metadata": {},
   "outputs": [],
   "source": [
    "tr_i=np.random.choice(N,int(np.round(0.7*N)),replace=False)\n",
    "t_i=[i for i in range(N) if i not in tr_i]\n",
    "X_train=X[tr_i]\n",
    "X_test=X[t_i]\n",
    "y_train=Y[tr_i]\n",
    "y_test=Y[t_i]"
   ]
  },
  {
   "cell_type": "markdown",
   "metadata": {},
   "source": [
    "### Logistic Model with softmax"
   ]
  },
  {
   "cell_type": "code",
   "execution_count": 207,
   "metadata": {},
   "outputs": [],
   "source": [
    "def softmax(a):\n",
    "    return np.exp(a)/(np.exp(a)).sum(axis=1,keepdims=True)\n",
    "def cross_entropy(y,y_p):\n",
    "    return -np.mean(y*np.log(y_p))\n"
   ]
  },
  {
   "cell_type": "code",
   "execution_count": 215,
   "metadata": {},
   "outputs": [],
   "source": [
    "W=np.random.randn(D+3,K)\n",
    "b=np.random.randn(K)\n",
    "lr=0.001\n",
    "tr_cost=[]\n",
    "t_cost=[]\n",
    "tr_class=[]\n",
    "t_class=[]\n",
    "for i in range(5000):\n",
    "    y_p_train=softmax(X_train.dot(W)+b)\n",
    "    y_p_test=softmax(X_test.dot(W)+b)\n",
    "    W=W-lr*(X_train.T.dot(y_p_train-y_train))\n",
    "    b=b-lr*(y_p_train-y_train).sum(axis=0)\n",
    "    tr_cost.append(cross_entropy(y_train,y_p_train))\n",
    "    t_cost.append(cross_entropy(y_test,y_p_test))\n",
    "    tr_class.append(class_rate(y_train.argmax(axis=1),y_p_train.argmax(axis=1)))\n",
    "    t_class.append(class_rate(y_test.argmax(axis=1),y_p_test.argmax(axis=1)))"
   ]
  },
  {
   "cell_type": "code",
   "execution_count": 218,
   "metadata": {},
   "outputs": [
    {
     "data": {
      "image/png": "[encoded data removed]",
      "text/plain": [
       "<Figure size 432x288 with 1 Axes>"
      ]
     },
     "metadata": {},
     "output_type": "display_data"
    }
   ],
   "source": [
    "plt.plot(tr_cost,label='Train Cost')\n",
    "plt.plot(t_cost,label='Test Cost')\n",
    "plt.legend()\n",
    "plt.show()"
   ]
  },
  {
   "cell_type": "code",
   "execution_count": 219,
   "metadata": {},
   "outputs": [
    {
     "data": {
      "image/png": "[encoded data removed]",
      "text/plain": [
       "<Figure size 432x288 with 1 Axes>"
      ]
     },
     "metadata": {},
     "output_type": "display_data"
    }
   ],
   "source": [
    "plt.plot(tr_class,label='Train Classification Rate')\n",
    "plt.plot(t_class,label='Test Classification Rate')\n",
    "plt.legend()\n",
    "plt.show()"
   ]
  },
  {
   "cell_type": "markdown",
   "metadata": {},
   "source": [
    "## Neural Network"
   ]
  },
  {
   "cell_type": "code",
   "execution_count": 250,
   "metadata": {},
   "outputs": [],
   "source": [
    "def softmax(a):\n",
    "    return np.exp(a)/(np.exp(a)).sum(axis=1,keepdims=True)\n",
    "def sigmoid(z):\n",
    "    return (1/(1+np.exp(-z)))\n",
    "def cross_entropy(y,y_p):\n",
    "    return -np.mean(y*np.log(y_p))\n",
    "def feed_forward(X,W1,b1,W2,b2):\n",
    "    Z=sigmoid(X.dot(W1)+b1)\n",
    "    y=softmax(Z.dot(W2) + b2)\n",
    "    return y,Z\n",
    "def derivativeW2(y,y_p,z):\n",
    "    return z.T.dot(y_p-y)\n",
    "def derivativeb2(y,y_p):\n",
    "    return (y_p-y).sum(axis=0)\n",
    "def derivativeW1(y,y_p,z,W2,X):\n",
    "    dz=((y_p-y).dot(W2.T))*z*(1-z)\n",
    "    return X.T.dot(dz)\n",
    "def derivativeb1(y,y_p,z,W2):\n",
    "    return (((y_p-y).dot(W2.T))*z*(1-z)).sum(axis=0)\n",
    "def class_rate(y,y_p):\n",
    "    n_c=0\n",
    "    n_t=0\n",
    "    for i in range(len(y)):\n",
    "        n_t+=1\n",
    "        if y[i]==y_p[i]:\n",
    "            n_c+=1\n",
    "    return n_c/n_t"
   ]
  },
  {
   "cell_type": "code",
   "execution_count": 251,
   "metadata": {},
   "outputs": [],
   "source": [
    "# Let M=5, K=4,D=8, N=500\n",
    "def train_nn(X_train,y_train,X_test,y_test,W1,b1,W2,b2,lr,epoch):\n",
    "    tr_c=[]\n",
    "    t_c=[]\n",
    "    tr_class=[]\n",
    "    t_class=[]\n",
    "    for i in range(epoch):\n",
    "        y_p_train,z_train=feed_forward(X_train,W1,b1,W2,b2)\n",
    "        y_p_test,z_test=feed_forward(X_test,W1,b1,W2,b2)\n",
    "        W2=W2-lr*derivativeW2(y_train,y_p_train,z_train)\n",
    "        b2=b2-lr*derivativeb2(y_train,y_p_train)\n",
    "        W1=W1-lr*derivativeW1(y_train,y_p_train,z_train,W2,X_train)\n",
    "        b1=b1-lr*derivativeb1(y_train,y_p_train,z_train,W2)\n",
    "        tr_c.append(cross_entropy(y_train,y_p_train))\n",
    "        t_c.append(cross_entropy(y_test,y_p_test))\n",
    "        tr_class.append(class_rate(y_train.argmax(axis=1),y_p_train.argmax(axis=1)))\n",
    "        t_class.append(class_rate(y_test.argmax(axis=1),y_p_test.argmax(axis=1)))\n",
    "        if i % 1000==0:\n",
    "            print('For Epoch:{0} Train Cost: {1} Train Classification Rate: {2}  \\\n",
    "            Test Cost: {3} Test Classification Rate: {4}'.format(i,tr_c[i],tr_class[i],t_c[i],t_class[i]))\n",
    "    return y_p_train,y_p_test,tr_c,t_c,tr_class,t_class,W2,b2,W1,b1\n",
    "\n",
    "\n",
    "\n",
    "    "
   ]
  },
  {
   "cell_type": "code",
   "execution_count": 292,
   "metadata": {},
   "outputs": [
    {
     "name": "stdout",
     "output_type": "stream",
     "text": [
      "For Epoch:0 Train Cost: 0.5835264103226022 Train Classification Rate: 0.12571428571428572              Test Cost: 0.5673583440012554 Test Classification Rate: 0.12\n",
      "For Epoch:1000 Train Cost: 0.058661498317297674 Train Classification Rate: 0.9114285714285715              Test Cost: 0.08075476559454896 Test Classification Rate: 0.8733333333333333\n",
      "For Epoch:2000 Train Cost: 0.039673851526228 Train Classification Rate: 0.9457142857142857              Test Cost: 0.06322000472074166 Test Classification Rate: 0.86\n",
      "For Epoch:3000 Train Cost: 0.031434955413683394 Train Classification Rate: 0.9571428571428572              Test Cost: 0.0545777392469455 Test Classification Rate: 0.8733333333333333\n",
      "For Epoch:4000 Train Cost: 0.025419355170297107 Train Classification Rate: 0.96              Test Cost: 0.04039058335229724 Test Classification Rate: 0.9333333333333333\n",
      "For Epoch:5000 Train Cost: 0.02078862494153806 Train Classification Rate: 0.9714285714285714              Test Cost: 0.0322083417023026 Test Classification Rate: 0.9466666666666667\n",
      "For Epoch:6000 Train Cost: 0.01814128378314219 Train Classification Rate: 0.98              Test Cost: 0.03108167798166363 Test Classification Rate: 0.9533333333333334\n",
      "For Epoch:7000 Train Cost: 0.016152118007933453 Train Classification Rate: 0.9742857142857143              Test Cost: 0.029072317308212033 Test Classification Rate: 0.9533333333333334\n",
      "For Epoch:8000 Train Cost: 0.014590592983152016 Train Classification Rate: 0.9771428571428571              Test Cost: 0.027882412019250537 Test Classification Rate: 0.9666666666666667\n",
      "For Epoch:9000 Train Cost: 0.013193644850488252 Train Classification Rate: 0.98              Test Cost: 0.026883348372854644 Test Classification Rate: 0.9666666666666667\n"
     ]
    }
   ],
   "source": [
    "M=6\n",
    "W1=np.random.randn(D+3,M)\n",
    "b1=np.random.randn(M)\n",
    "W2=np.random.randn(M,K)\n",
    "b2=np.random.randn(K)\n",
    "y_p_tr,y_p_t,tr_c,t_c,tr_cl,t_cl,W2,b2,W1,b1=train_nn(X_train,y_train,X_test,y_test,W1,b1,W2,b2,0.001,10000)"
   ]
  },
  {
   "cell_type": "code",
   "execution_count": 293,
   "metadata": {},
   "outputs": [
    {
     "data": {
      "text/plain": [
       "array([ 0.03738906,  3.60833679, -0.37085239, -4.4601317 ])"
      ]
     },
     "execution_count": 293,
     "metadata": {},
     "output_type": "execute_result"
    }
   ],
   "source": [
    "b2"
   ]
  },
  {
   "cell_type": "code",
   "execution_count": 294,
   "metadata": {},
   "outputs": [
    {
     "data": {
      "text/plain": [
       "array([[ 6.73066623, -5.54739762, -3.45055347,  0.3790199 ],\n",
       "       [-1.36668   ,  0.86330857,  1.10832127, -2.74296938],\n",
       "       [-1.26841033, -8.22931715,  5.65477614,  4.92539282],\n",
       "       [10.92575876, -5.95110109, -2.46076449, -4.17996126],\n",
       "       [-1.34468788,  4.33499827, -1.61323729,  0.48886906],\n",
       "       [ 0.05173447, -3.59932802, -2.81144782,  8.8007526 ]])"
      ]
     },
     "execution_count": 294,
     "metadata": {},
     "output_type": "execute_result"
    }
   ],
   "source": [
    "W2"
   ]
  },
  {
   "cell_type": "code",
   "execution_count": 295,
   "metadata": {},
   "outputs": [
    {
     "data": {
      "text/plain": [
       "array([[-3.05486253,  1.80406676,  4.10102627, -0.12869282,  0.85222829,\n",
       "         1.7658943 ],\n",
       "       [-1.33732846,  0.07726097,  1.03245482, -7.921055  , -2.94862727,\n",
       "         1.56234989],\n",
       "       [-5.79686896, -2.44959461,  4.66687955,  0.01132663,  2.60259898,\n",
       "         1.76907496],\n",
       "       [-3.36770946,  0.71638679,  2.22827615, -0.24838976,  2.76824502,\n",
       "         3.23478419],\n",
       "       [-1.40175221,  2.40659948,  1.64088779,  0.27986501,  2.07791169,\n",
       "         1.03433802],\n",
       "       [-0.93005822,  1.46658093,  2.00183598,  0.8212614 ,  2.35318256,\n",
       "        -0.07439134],\n",
       "       [ 0.06828191, -1.67862517, -2.1673137 , -0.7225086 ,  0.92192563,\n",
       "        -0.29252587],\n",
       "       [ 1.12145583,  0.10983514, -2.07811396, -0.34271816,  0.18334936,\n",
       "        -4.85388951]])"
      ]
     },
     "execution_count": 295,
     "metadata": {},
     "output_type": "execute_result"
    }
   ],
   "source": [
    "W1"
   ]
  },
  {
   "cell_type": "code",
   "execution_count": 296,
   "metadata": {},
   "outputs": [
    {
     "data": {
      "text/plain": [
       "array([-3.75646008,  2.23924551, -4.173388  , -0.61646304,  2.01854349,\n",
       "       -6.71505089])"
      ]
     },
     "execution_count": 296,
     "metadata": {},
     "output_type": "execute_result"
    }
   ],
   "source": [
    "b1"
   ]
  },
  {
   "cell_type": "code",
   "execution_count": 297,
   "metadata": {},
   "outputs": [
    {
     "data": {
      "image/png": "[encoded data removed]",
      "text/plain": [
       "<Figure size 432x288 with 1 Axes>"
      ]
     },
     "metadata": {},
     "output_type": "display_data"
    }
   ],
   "source": [
    "plt.plot(tr_c,label='Train Cost')\n",
    "plt.plot(t_c,label='Test Cost')\n",
    "plt.legend()\n",
    "plt.show()"
   ]
  },
  {
   "cell_type": "code",
   "execution_count": 298,
   "metadata": {},
   "outputs": [
    {
     "data": {
      "image/png": "[encoded data removed]",
      "text/plain": [
       "<Figure size 432x288 with 1 Axes>"
      ]
     },
     "metadata": {},
     "output_type": "display_data"
    }
   ],
   "source": [
    "plt.plot(tr_cl,label='Train Classification Rate')\n",
    "plt.plot(t_cl,label='Test Classification Rate')\n",
    "plt.legend()\n",
    "plt.show()"
   ]
  },
  {
   "cell_type": "code",
   "execution_count": null,
   "metadata": {},
   "outputs": [],
   "source": []
  }
 ],
 "metadata": {
  "kernelspec": {
   "display_name": "Python 3",
   "language": "python",
   "name": "python3"
  },
  "language_info": {
   "codemirror_mode": {
    "name": "ipython",
    "version": 3
   },
   "file_extension": ".py",
   "mimetype": "text/x-python",
   "name": "python",
   "nbconvert_exporter": "python",
   "pygments_lexer": "ipython3",
   "version": "3.6.5"
  }
 },
 "nbformat": 4,
 "nbformat_minor": 2
}
