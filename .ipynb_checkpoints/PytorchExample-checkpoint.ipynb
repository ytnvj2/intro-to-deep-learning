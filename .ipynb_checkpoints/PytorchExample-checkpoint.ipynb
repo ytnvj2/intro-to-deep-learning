{
 "cells": [
  {
   "cell_type": "code",
   "execution_count": 1,
   "metadata": {},
   "outputs": [
    {
     "data": {
      "text/plain": [
       "<Figure size 640x480 with 1 Axes>"
      ]
     },
     "metadata": {},
     "output_type": "display_data"
    }
   ],
   "source": [
    "## Creating Data\n",
    "import numpy as np\n",
    "import matplotlib.pyplot as plt\n",
    "def get_spiral():\n",
    "    # Idea: radius -> low...high\n",
    "    #           (don't start at 0, otherwise points will be \"mushed\" at origin)\n",
    "    #       angle = low...high proportional to radius\n",
    "    #               [0, 2pi/6, 4pi/6, ..., 10pi/6] --> [pi/2, pi/3 + pi/2, ..., ]\n",
    "    # x = rcos(theta), y = rsin(theta) as usual\n",
    "\n",
    "    radius = np.linspace(1, 10, 1000)\n",
    "    thetas = np.empty((6, 1000))\n",
    "    for i in range(6):\n",
    "        start_angle = np.pi*i / 3.0\n",
    "        end_angle = start_angle + np.pi / 2\n",
    "        points = np.linspace(start_angle, end_angle, 1000)\n",
    "        thetas[i] = points\n",
    "\n",
    "    # convert into cartesian coordinates\n",
    "    x1 = np.empty((6, 1000))\n",
    "    x2 = np.empty((6, 1000))\n",
    "    for i in range(6):\n",
    "        x1[i] = radius * np.cos(thetas[i])\n",
    "        x2[i] = radius * np.sin(thetas[i])\n",
    "\n",
    "    # inputs\n",
    "    X = np.empty((6000, 2))\n",
    "    X[:,0] = x1.flatten()\n",
    "    X[:,1] = x2.flatten()\n",
    "\n",
    "    # add noise\n",
    "    X += np.random.randn(6000, 2)*0.5\n",
    "\n",
    "    # targets\n",
    "    Y = np.array([0]*1000 + [1]*1000 + [2]*1000 + [0]*1000 + [3]*1000 + [2]*1000)\n",
    "    return X, Y\n",
    "\n",
    "X,y=get_spiral()\n",
    "\n",
    "plt.scatter(X[:,0],X[:,1],c=y)\n",
    "plt.show()\n",
    "\n",
    "## Processing the Data\n",
    "\n",
    "def one_hot_encoder(X):\n",
    "    N=X.shape[0]\n",
    "    K=len(np.unique(X))\n",
    "    Z=np.zeros((N,K))\n",
    "    for i in range(N):\n",
    "        c=int(X[i])\n",
    "        Z[i,c]=1\n",
    "    return Z\n",
    "y_i=one_hot_encoder(y)\n",
    "\n",
    "def standardize(X):\n",
    "    stds=X.std(axis=0)\n",
    "    means=X.mean(axis=0)\n",
    "    X=(X-means)/stds\n",
    "    return X,means,stds\n",
    "\n",
    "X_s,m,s=standardize(X)\n",
    "\n",
    "def train_test_split(X,y,size=0.8,rs=None):\n",
    "    N=len(X)\n",
    "    np.random.seed(rs)\n",
    "    tr_i=np.random.choice(N,int(size*N),replace=False)\n",
    "    t_i=[i for i in range(N) if i not in tr_i]\n",
    "    X_train=X[tr_i]\n",
    "    y_train=y[tr_i]\n",
    "    X_test=X[t_i]\n",
    "    y_test=y[t_i]\n",
    "    return X_train,y_train,X_test,y_test\n",
    "X_train,y_train,X_test,y_test=train_test_split(X_s,y,size=0.9,rs=20)\n",
    "\n",
    "X_train=X_train.astype(np.float32)\n",
    "y_train=y_train.astype(np.float32)\n",
    "X_test=X_test.astype(np.float32)\n",
    "y_test=y_test.astype(np.float32)"
   ]
  },
  {
   "cell_type": "code",
   "execution_count": 2,
   "metadata": {},
   "outputs": [],
   "source": [
    "import torch\n",
    "from torch.optim import RMSprop\n",
    "from torch.autograd import Variable"
   ]
  },
  {
   "cell_type": "code",
   "execution_count": 3,
   "metadata": {},
   "outputs": [],
   "source": [
    "_,D=X_train.shape\n",
    "K=len(set(y))"
   ]
  },
  {
   "cell_type": "code",
   "execution_count": 4,
   "metadata": {},
   "outputs": [],
   "source": [
    "model=torch.nn.Sequential()"
   ]
  },
  {
   "cell_type": "code",
   "execution_count": 5,
   "metadata": {},
   "outputs": [],
   "source": [
    "model.add_module('x0',torch.nn.Linear(D,500))\n",
    "model.add_module('x',torch.nn.ReLU())\n",
    "model.add_module('x1',torch.nn.Linear(500,300))\n",
    "model.add_module('xa',torch.nn.ReLU())\n",
    "model.add_module('x2',torch.nn.Linear(300,K))\n",
    "\n",
    "# Similar to tensorflow no softmax layer\n",
    "# model.add_module('x',torch.nn.Softmax())\n",
    "\n",
    "\n"
   ]
  },
  {
   "cell_type": "code",
   "execution_count": 6,
   "metadata": {},
   "outputs": [],
   "source": [
    "loss=torch.nn.CrossEntropyLoss(reduction='mean')"
   ]
  },
  {
   "cell_type": "code",
   "execution_count": 7,
   "metadata": {},
   "outputs": [],
   "source": [
    "optimizer=RMSprop(model.parameters(),lr=0.01,momentum=0.95)"
   ]
  },
  {
   "cell_type": "code",
   "execution_count": 8,
   "metadata": {},
   "outputs": [],
   "source": [
    "def train(model,loss,optimizer,inputs,labels):\n",
    "    inputs=Variable(inputs,requires_grad=False)\n",
    "    labels=Variable(labels,requires_grad=False)\n",
    "    \n",
    "    # rest the gradient\n",
    "    optimizer.zero_grad()\n",
    "    \n",
    "    # Forward\n",
    "    logits=model.forward(inputs) \n",
    "    outputs=loss.forward(logits,labels)\n",
    "    \n",
    "    # BackProp\n",
    "    outputs.backward()\n",
    "    \n",
    "    # Update Variables\n",
    "    optimizer.step()\n",
    "    \n",
    "    return outputs.item()\n",
    "    \n",
    "    "
   ]
  },
  {
   "cell_type": "code",
   "execution_count": 9,
   "metadata": {},
   "outputs": [],
   "source": [
    "def predict(inputs,model):\n",
    "#     print(inputs)\n",
    "    inputs=Variable(inputs,requires_grad=False)\n",
    "    logits=model.forward(inputs)\n",
    "    return logits.data.numpy().argmax(axis=1)"
   ]
  },
  {
   "cell_type": "code",
   "execution_count": 10,
   "metadata": {},
   "outputs": [],
   "source": [
    "def fit(X,y,epochs=100,batch_size=290,random_state=None,fig=True):\n",
    "    X_t,y_t,X_v,y_v=train_test_split(X,y,size=0.9,rs=random_state)\n",
    "    X_t=torch.from_numpy(X_t).float()\n",
    "    y_t=torch.from_numpy(y_t).long()\n",
    "    X_v=torch.from_numpy(X_v).float()\n",
    "    c_t=[]\n",
    "    c_v=[]\n",
    "    cl_t=[]\n",
    "    cl_v=[]\n",
    "    N=X_t.shape[0]\n",
    "    n_batch=int(np.ceil(N/batch_size))\n",
    "    for i in range(epochs):\n",
    "        for j in range(n_batch):\n",
    "            x=X_t[j*batch_size:(j*batch_size+batch_size)]\n",
    "            yb=y_t[j*batch_size:j*batch_size+batch_size]\n",
    "            cost = train(model, loss, optimizer, x, yb)\n",
    "            c_t.append(cost)\n",
    "            logits=model.forward(Variable(X_v,requires_grad=False))\n",
    "            cost=loss.forward(logits,Variable(torch.from_numpy(y_v).long(),requires_grad=False))\n",
    "            c_v.append(cost)\n",
    "            cl_t.append(np.mean(yb.data.numpy() == predict(x,model)))               \n",
    "            cl_v.append(np.mean(y_v == predict(X_v,model)))\n",
    "        if i%1==0:\n",
    "            print('Epoch {0} Train C: {1} Cl: {2} Test C:{3} Cl:{4}'.format(i,c_t[i],cl_t[i],c_v[i],cl_v[i]))\n",
    "    if fig==True:\n",
    "        plt.plot(c_t,label='Train Cost')        \n",
    "        plt.plot(c_v,label='Test Cost')\n",
    "        plt.legend()\n",
    "        plt.show()\n",
    "        plt.plot(cl_t,label='Train Classification')\n",
    "        plt.plot(cl_v,label='Test Classification')\n",
    "        plt.legend()\n",
    "        plt.show()\n",
    "            "
   ]
  },
  {
   "cell_type": "code",
   "execution_count": 11,
   "metadata": {
    "scrolled": true
   },
   "outputs": [
    {
     "name": "stdout",
     "output_type": "stream",
     "text": [
      "Epoch 0 Train C: 1.3727095127105713 Cl: 0.35517241379310344 Test C:58.52114486694336 Cl:0.34814814814814815\n",
      "Epoch 1 Train C: 56.97124099731445 Cl: 0.33793103448275863 Test C:197.91122436523438 Cl:0.31666666666666665\n",
      "Epoch 2 Train C: 172.84066772460938 Cl: 0.3103448275862069 Test C:280.0531311035156 Cl:0.32592592592592595\n",
      "Epoch 3 Train C: 258.8616638183594 Cl: 0.31724137931034485 Test C:169.65631103515625 Cl:0.3351851851851852\n",
      "Epoch 4 Train C: 157.92111206054688 Cl: 0.02413793103448276 Test C:165.71800231933594 Cl:0.012962962962962963\n",
      "Epoch 5 Train C: 153.02920532226562 Cl: 0.38275862068965516 Test C:141.33909606933594 Cl:0.31666666666666665\n",
      "Epoch 6 Train C: 130.42190551757812 Cl: 0.31724137931034485 Test C:97.1428451538086 Cl:0.32592592592592595\n",
      "Epoch 7 Train C: 112.03529357910156 Cl: 0.4413793103448276 Test C:59.87803268432617 Cl:0.45555555555555555\n",
      "Epoch 8 Train C: 59.43079376220703 Cl: 0.5206896551724138 Test C:58.93544006347656 Cl:0.4462962962962963\n",
      "Epoch 9 Train C: 63.47152328491211 Cl: 0.5655172413793104 Test C:32.28330993652344 Cl:0.5462962962962963\n",
      "Epoch 10 Train C: 39.16313934326172 Cl: 0.6896551724137931 Test C:17.032203674316406 Cl:0.6962962962962963\n",
      "Epoch 11 Train C: 18.8994197845459 Cl: 0.6 Test C:21.46741485595703 Cl:0.6518518518518519\n",
      "Epoch 12 Train C: 20.54962730407715 Cl: 0.6344827586206897 Test C:15.912224769592285 Cl:0.65\n",
      "Epoch 13 Train C: 15.58760929107666 Cl: 0.7206896551724138 Test C:10.682217597961426 Cl:0.7314814814814815\n",
      "Epoch 14 Train C: 9.688215255737305 Cl: 0.8827586206896552 Test C:4.299976348876953 Cl:0.8888888888888888\n",
      "Epoch 15 Train C: 3.7123775482177734 Cl: 0.896551724137931 Test C:5.262737274169922 Cl:0.8777777777777778\n",
      "Epoch 16 Train C: 5.512350082397461 Cl: 0.7545454545454545 Test C:19.198837280273438 Cl:0.7962962962962963\n",
      "Epoch 17 Train C: 16.49984359741211 Cl: 0.8275862068965517 Test C:15.288933753967285 Cl:0.8240740740740741\n",
      "Epoch 18 Train C: 11.205989837646484 Cl: 0.896551724137931 Test C:9.706665992736816 Cl:0.8648148148148148\n",
      "Epoch 19 Train C: 11.186908721923828 Cl: 0.8896551724137931 Test C:5.192234039306641 Cl:0.8925925925925926\n",
      "Epoch 20 Train C: 8.429962158203125 Cl: 0.9206896551724137 Test C:2.4591481685638428 Cl:0.9407407407407408\n",
      "Epoch 21 Train C: 4.670724391937256 Cl: 0.903448275862069 Test C:3.76231050491333 Cl:0.9222222222222223\n",
      "Epoch 22 Train C: 2.457244873046875 Cl: 0.9 Test C:6.152308464050293 Cl:0.912962962962963\n",
      "Epoch 23 Train C: 6.683583736419678 Cl: 0.8896551724137931 Test C:7.96371603012085 Cl:0.924074074074074\n",
      "Epoch 24 Train C: 4.670949935913086 Cl: 0.9448275862068966 Test C:6.421555042266846 Cl:0.9407407407407408\n",
      "Epoch 25 Train C: 4.572612285614014 Cl: 0.9586206896551724 Test C:5.70051908493042 Cl:0.9555555555555556\n",
      "Epoch 26 Train C: 3.2960710525512695 Cl: 0.9517241379310345 Test C:5.876496315002441 Cl:0.937037037037037\n",
      "Epoch 27 Train C: 3.2804694175720215 Cl: 0.9482758620689655 Test C:6.472609996795654 Cl:0.9388888888888889\n",
      "Epoch 28 Train C: 8.665573120117188 Cl: 0.9758620689655172 Test C:3.8374104499816895 Cl:0.9518518518518518\n",
      "Epoch 29 Train C: 4.183699131011963 Cl: 0.9586206896551724 Test C:4.770622253417969 Cl:0.9537037037037037\n",
      "Epoch 30 Train C: 3.4092459678649902 Cl: 0.9551724137931035 Test C:6.34522008895874 Cl:0.9481481481481482\n",
      "Epoch 31 Train C: 7.889283180236816 Cl: 0.9344827586206896 Test C:8.714327812194824 Cl:0.9259259259259259\n",
      "Epoch 32 Train C: 6.414768218994141 Cl: 0.9517241379310345 Test C:10.499773979187012 Cl:0.9222222222222223\n",
      "Epoch 33 Train C: 13.565234184265137 Cl: 0.9545454545454546 Test C:3.1617109775543213 Cl:0.9611111111111111\n",
      "Epoch 34 Train C: 4.074066162109375 Cl: 0.9551724137931035 Test C:4.927420139312744 Cl:0.9611111111111111\n",
      "Epoch 35 Train C: 3.5479114055633545 Cl: 0.9517241379310345 Test C:7.616715431213379 Cl:0.9444444444444444\n",
      "Epoch 36 Train C: 6.406711101531982 Cl: 0.9482758620689655 Test C:10.566757202148438 Cl:0.9462962962962963\n",
      "Epoch 37 Train C: 7.059446811676025 Cl: 0.9448275862068966 Test C:12.895797729492188 Cl:0.95\n",
      "Epoch 38 Train C: 12.138718605041504 Cl: 0.9275862068965517 Test C:9.497885704040527 Cl:0.9481481481481482\n",
      "Epoch 39 Train C: 5.742713451385498 Cl: 0.9620689655172414 Test C:6.123047828674316 Cl:0.9592592592592593\n",
      "Epoch 40 Train C: 8.582745552062988 Cl: 0.9482758620689655 Test C:3.5158114433288574 Cl:0.9703703703703703\n",
      "Epoch 41 Train C: 4.200074672698975 Cl: 0.9655172413793104 Test C:3.37766432762146 Cl:0.9740740740740741\n",
      "Epoch 42 Train C: 8.37906265258789 Cl: 0.9586206896551724 Test C:3.2890660762786865 Cl:0.975925925925926\n",
      "Epoch 43 Train C: 3.6270751953125 Cl: 0.9689655172413794 Test C:3.2539889812469482 Cl:0.9740740740740741\n",
      "Epoch 44 Train C: 10.413965225219727 Cl: 0.9724137931034482 Test C:2.6190690994262695 Cl:0.9740740740740741\n",
      "Epoch 45 Train C: 3.552464246749878 Cl: 0.9827586206896551 Test C:3.0775625705718994 Cl:0.9722222222222222\n",
      "Epoch 46 Train C: 6.959358215332031 Cl: 0.9586206896551724 Test C:3.531724214553833 Cl:0.9722222222222222\n",
      "Epoch 47 Train C: 0.8249230980873108 Cl: 0.9827586206896551 Test C:4.2205305099487305 Cl:0.9703703703703703\n",
      "Epoch 48 Train C: 7.030114650726318 Cl: 0.9655172413793104 Test C:3.959381341934204 Cl:0.9722222222222222\n",
      "Epoch 49 Train C: 4.758679389953613 Cl: 0.9655172413793104 Test C:3.5771589279174805 Cl:0.9740740740740741\n",
      "Epoch 50 Train C: 3.47890567779541 Cl: 0.9727272727272728 Test C:4.249728202819824 Cl:0.9703703703703703\n",
      "Epoch 51 Train C: 4.829525947570801 Cl: 0.9724137931034482 Test C:6.450339317321777 Cl:0.9703703703703703\n",
      "Epoch 52 Train C: 4.377399921417236 Cl: 0.9724137931034482 Test C:6.047905445098877 Cl:0.9648148148148148\n",
      "Epoch 53 Train C: 2.683980941772461 Cl: 0.9655172413793104 Test C:4.823052406311035 Cl:0.9648148148148148\n",
      "Epoch 54 Train C: 14.099471092224121 Cl: 0.9517241379310345 Test C:2.9497289657592773 Cl:0.9703703703703703\n",
      "Epoch 55 Train C: 5.487451076507568 Cl: 0.9620689655172414 Test C:2.2139439582824707 Cl:0.9777777777777777\n",
      "Epoch 56 Train C: 1.1463576555252075 Cl: 0.9896551724137931 Test C:2.1263320446014404 Cl:0.975925925925926\n",
      "Epoch 57 Train C: 5.6479692459106445 Cl: 0.9655172413793104 Test C:1.859879970550537 Cl:0.975925925925926\n",
      "Epoch 58 Train C: 3.9206910133361816 Cl: 0.9724137931034482 Test C:2.1086924076080322 Cl:0.9777777777777777\n",
      "Epoch 59 Train C: 6.921638488769531 Cl: 0.9724137931034482 Test C:2.513429880142212 Cl:0.9740740740740741\n",
      "Epoch 60 Train C: 2.9355146884918213 Cl: 0.9793103448275862 Test C:2.834076166152954 Cl:0.9740740740740741\n",
      "Epoch 61 Train C: 1.561266303062439 Cl: 0.9724137931034482 Test C:3.039727210998535 Cl:0.975925925925926\n",
      "Epoch 62 Train C: 2.9019317626953125 Cl: 0.9793103448275862 Test C:3.8238091468811035 Cl:0.9648148148148148\n",
      "Epoch 63 Train C: 6.505039215087891 Cl: 0.9379310344827586 Test C:5.260627269744873 Cl:0.9555555555555556\n",
      "Epoch 64 Train C: 2.903022527694702 Cl: 0.9689655172413794 Test C:6.93745231628418 Cl:0.9537037037037037\n",
      "Epoch 65 Train C: 9.596147537231445 Cl: 0.9517241379310345 Test C:4.6662983894348145 Cl:0.9703703703703703\n",
      "Epoch 66 Train C: 6.151356220245361 Cl: 0.9655172413793104 Test C:3.508115530014038 Cl:0.9685185185185186\n",
      "Epoch 67 Train C: 2.4580166339874268 Cl: 0.9681818181818181 Test C:2.8800361156463623 Cl:0.9703703703703703\n",
      "Epoch 68 Train C: 2.6709234714508057 Cl: 0.9724137931034482 Test C:2.645920991897583 Cl:0.9722222222222222\n",
      "Epoch 69 Train C: 2.117025852203369 Cl: 0.9758620689655172 Test C:2.4139797687530518 Cl:0.9722222222222222\n",
      "Epoch 70 Train C: 1.1508954763412476 Cl: 0.9758620689655172 Test C:2.1241862773895264 Cl:0.9740740740740741\n",
      "Epoch 71 Train C: 4.671635150909424 Cl: 0.9758620689655172 Test C:1.9715856313705444 Cl:0.9740740740740741\n",
      "Epoch 72 Train C: 4.278708457946777 Cl: 0.9758620689655172 Test C:1.8862055540084839 Cl:0.975925925925926\n",
      "Epoch 73 Train C: 1.5225439071655273 Cl: 0.9827586206896551 Test C:1.8935312032699585 Cl:0.9777777777777777\n",
      "Epoch 74 Train C: 6.148343086242676 Cl: 0.9655172413793104 Test C:2.018629550933838 Cl:0.975925925925926\n",
      "Epoch 75 Train C: 3.788858652114868 Cl: 0.9793103448275862 Test C:2.2290053367614746 Cl:0.9722222222222222\n",
      "Epoch 76 Train C: 9.805624008178711 Cl: 0.9620689655172414 Test C:2.23547101020813 Cl:0.9703703703703703\n",
      "Epoch 77 Train C: 3.0653910636901855 Cl: 0.9758620689655172 Test C:2.3706912994384766 Cl:0.9685185185185186\n"
     ]
    },
    {
     "name": "stdout",
     "output_type": "stream",
     "text": [
      "Epoch 78 Train C: 6.419244289398193 Cl: 0.9689655172413794 Test C:2.1126041412353516 Cl:0.9666666666666667\n",
      "Epoch 79 Train C: 7.860829830169678 Cl: 0.9827586206896551 Test C:2.144615888595581 Cl:0.9685185185185186\n",
      "Epoch 80 Train C: 3.597111463546753 Cl: 0.9586206896551724 Test C:2.1624882221221924 Cl:0.9722222222222222\n",
      "Epoch 81 Train C: 0.7545262575149536 Cl: 0.9793103448275862 Test C:7.001181602478027 Cl:0.9666666666666667\n",
      "Epoch 82 Train C: 3.0311427116394043 Cl: 0.9517241379310345 Test C:15.859899520874023 Cl:0.9592592592592593\n",
      "Epoch 83 Train C: 24.213539123535156 Cl: 0.9517241379310345 Test C:5.3419928550720215 Cl:0.9611111111111111\n",
      "Epoch 84 Train C: 11.232309341430664 Cl: 0.9545454545454546 Test C:2.367525577545166 Cl:0.9685185185185186\n",
      "Epoch 85 Train C: 3.0997421741485596 Cl: 0.9724137931034482 Test C:2.4243323802948 Cl:0.9666666666666667\n",
      "Epoch 86 Train C: 2.255415439605713 Cl: 0.9793103448275862 Test C:2.612726926803589 Cl:0.9648148148148148\n",
      "Epoch 87 Train C: 2.829024314880371 Cl: 0.9655172413793104 Test C:2.774263620376587 Cl:0.9685185185185186\n",
      "Epoch 88 Train C: 4.9730224609375 Cl: 0.9482758620689655 Test C:2.833632469177246 Cl:0.9703703703703703\n",
      "Epoch 89 Train C: 2.422678232192993 Cl: 0.9689655172413794 Test C:2.9000232219696045 Cl:0.9666666666666667\n",
      "Epoch 90 Train C: 0.40676575899124146 Cl: 0.9862068965517241 Test C:3.240931987762451 Cl:0.9629629629629629\n",
      "Epoch 91 Train C: 4.43713903427124 Cl: 0.9620689655172414 Test C:3.349696636199951 Cl:0.9592592592592593\n",
      "Epoch 92 Train C: 3.008439302444458 Cl: 0.9551724137931035 Test C:3.2239086627960205 Cl:0.9574074074074074\n",
      "Epoch 93 Train C: 6.2714009284973145 Cl: 0.9586206896551724 Test C:2.900702476501465 Cl:0.9611111111111111\n",
      "Epoch 94 Train C: 2.835151195526123 Cl: 0.9689655172413794 Test C:2.7401020526885986 Cl:0.9629629629629629\n",
      "Epoch 95 Train C: 1.4792473316192627 Cl: 0.9793103448275862 Test C:2.822002410888672 Cl:0.9666666666666667\n",
      "Epoch 96 Train C: 2.8561506271362305 Cl: 0.9793103448275862 Test C:3.0504791736602783 Cl:0.9703703703703703\n",
      "Epoch 97 Train C: 9.149308204650879 Cl: 0.9689655172413794 Test C:3.446638345718384 Cl:0.9648148148148148\n",
      "Epoch 98 Train C: 1.8663568496704102 Cl: 0.9620689655172414 Test C:4.666182041168213 Cl:0.9537037037037037\n",
      "Epoch 99 Train C: 8.265824317932129 Cl: 0.9586206896551724 Test C:6.234750270843506 Cl:0.9425925925925925\n"
     ]
    },
    {
     "data": {
      "image/png": "[encoded data removed]",
      "text/plain": [
       "<Figure size 432x288 with 1 Axes>"
      ]
     },
     "metadata": {},
     "output_type": "display_data"
    },
    {
     "data": {
      "image/png": "[encoded data removed]",
      "text/plain": [
       "<Figure size 432x288 with 1 Axes>"
      ]
     },
     "metadata": {},
     "output_type": "display_data"
    }
   ],
   "source": [
    "fit(X_train,y_train)"
   ]
  },
  {
   "cell_type": "code",
   "execution_count": null,
   "metadata": {},
   "outputs": [],
   "source": []
  }
 ],
 "metadata": {
  "kernelspec": {
   "display_name": "Python 3",
   "language": "python",
   "name": "python3"
  },
  "language_info": {
   "codemirror_mode": {
    "name": "ipython",
    "version": 3
   },
   "file_extension": ".py",
   "mimetype": "text/x-python",
   "name": "python",
   "nbconvert_exporter": "python",
   "pygments_lexer": "ipython3",
   "version": "3.6.5"
  }
 },
 "nbformat": 4,
 "nbformat_minor": 2
}
