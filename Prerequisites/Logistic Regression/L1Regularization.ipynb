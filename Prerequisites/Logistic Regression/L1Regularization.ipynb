{
 "cells": [
  {
   "cell_type": "code",
   "execution_count": 175,
   "metadata": {},
   "outputs": [],
   "source": [
    "import numpy as np\n",
    "import matplotlib.pyplot as plt\n",
    "D=50\n",
    "N=50\n",
    "X=np.random.randn(N,D)\n",
    "true_w=np.array([0.5,0.1,-0.75,1]+[0]*(D-4))\n",
    "true_b=np.random.randn(N)\n",
    "def sigmoid(z):\n",
    "    return 1/(1+np.exp(-z))\n",
    "y=np.round(sigmoid(X.dot(true_w)+true_b))"
   ]
  },
  {
   "cell_type": "code",
   "execution_count": 176,
   "metadata": {},
   "outputs": [],
   "source": [
    "#X=np.concatenate((np.array([np.ones(N)]).T,X),axis=1)"
   ]
  },
  {
   "cell_type": "code",
   "execution_count": 177,
   "metadata": {},
   "outputs": [
    {
     "data": {
      "text/plain": [
       "array([0., 0., 0., 0., 1., 0., 1., 0., 1., 0., 0., 1., 1., 0., 1., 0., 0.,\n",
       "       1., 0., 1., 1., 1., 0., 0., 1., 1., 0., 0., 0., 0., 0., 1., 1., 1.,\n",
       "       0., 0., 0., 0., 1., 1., 0., 0., 1., 0., 0., 0., 1., 0., 1., 1.])"
      ]
     },
     "execution_count": 177,
     "metadata": {},
     "output_type": "execute_result"
    }
   ],
   "source": [
    "y"
   ]
  },
  {
   "cell_type": "code",
   "execution_count": 184,
   "metadata": {},
   "outputs": [],
   "source": [
    "l1=10\n",
    "w=np.random.randn(D)/np.sqrt(l1)\n",
    "b=np.random.randn()*10\n",
    "lr=0.001"
   ]
  },
  {
   "cell_type": "code",
   "execution_count": 185,
   "metadata": {},
   "outputs": [
    {
     "data": {
      "text/plain": [
       "array([ 0.26540621,  0.40429884, -0.48182961, -0.2785284 ,  0.37746371,\n",
       "        0.4622589 , -0.08123991, -0.13459741,  0.45519929, -0.13543678,\n",
       "       -0.02262021,  0.26645743,  0.24022659, -0.55597236, -0.14784183,\n",
       "       -0.18183153, -0.3880562 , -0.28198514, -0.0128772 , -0.43077739,\n",
       "       -0.06706237, -0.14255857,  0.03761804, -0.3182314 ,  0.0165648 ,\n",
       "        0.05593474, -0.4188855 , -0.07754528,  0.15710435,  0.18790876,\n",
       "       -0.125326  ,  0.35214125, -0.07823987, -0.1971355 , -0.02452938,\n",
       "       -0.58554156, -0.06422182, -0.01961572,  0.35689478,  0.2109751 ,\n",
       "       -0.32345043,  0.03568923, -0.14784685,  0.09713741,  0.06355058,\n",
       "       -0.37303636,  0.52041297, -0.06261901, -0.33048702, -0.12497243])"
      ]
     },
     "execution_count": 185,
     "metadata": {},
     "output_type": "execute_result"
    }
   ],
   "source": [
    "w"
   ]
  },
  {
   "cell_type": "code",
   "execution_count": 186,
   "metadata": {},
   "outputs": [],
   "source": [
    "def cross_entropy(y,y_p):\n",
    "    return -(y*np.log(y_p)+(1-y)*np.log(1-y_p)).mean()"
   ]
  },
  {
   "cell_type": "code",
   "execution_count": 187,
   "metadata": {},
   "outputs": [],
   "source": [
    "cost=[]\n",
    "for i in range(100):\n",
    "    w=w-lr*(np.dot(X.T,(sigmoid(X.dot(w)+b)-y))+l1*np.sign(w))\n",
    "    b=b-lr*(sigmoid(X.dot(w)+b)-y)\n",
    "    y_pred=sigmoid(X.dot(w)+b)\n",
    "    cost.append(cross_entropy(y,y_pred)+l1*np.abs(w).mean())"
   ]
  },
  {
   "cell_type": "code",
   "execution_count": 188,
   "metadata": {},
   "outputs": [
    {
     "data": {
      "text/plain": [
       "array([-0.00495829,  0.00822213, -0.12399141,  0.1995546 ,  0.01015404,\n",
       "       -0.00889101,  0.00324344, -0.00602237, -0.00028788,  0.00758942,\n",
       "       -0.0022292 , -0.01660445,  0.01372146,  0.00809054,  0.0020642 ,\n",
       "        0.00783036, -0.00140875, -0.00376633,  0.00096497,  0.00371017,\n",
       "        0.0037306 , -0.00228084,  0.01252017,  0.00184975, -0.0024103 ,\n",
       "        0.00955034, -0.01131888,  0.01063604, -0.0101625 , -0.00321101,\n",
       "        0.0055775 ,  0.00964051, -0.00609465, -0.00265055,  0.00136877,\n",
       "        0.00265807, -0.00214185, -0.00391793,  0.00801491,  0.0016404 ,\n",
       "        0.00180051,  0.01232597,  0.00440673,  0.00771916, -0.01375342,\n",
       "        0.01447175, -0.00294996,  0.00492759,  0.00120395,  0.0036201 ])"
      ]
     },
     "execution_count": 188,
     "metadata": {},
     "output_type": "execute_result"
    }
   ],
   "source": [
    "w"
   ]
  },
  {
   "cell_type": "code",
   "execution_count": 189,
   "metadata": {},
   "outputs": [
    {
     "data": {
      "image/png": "[encoded data removed]",
      "text/plain": [
       "<Figure size 432x288 with 1 Axes>"
      ]
     },
     "metadata": {},
     "output_type": "display_data"
    }
   ],
   "source": [
    "plt.plot(true_w)\n",
    "plt.plot(w)\n",
    "plt.show()"
   ]
  },
  {
   "cell_type": "code",
   "execution_count": 190,
   "metadata": {},
   "outputs": [
    {
     "data": {
      "text/plain": [
       "[<matplotlib.lines.Line2D at 0x245d0ec1b70>]"
      ]
     },
     "execution_count": 190,
     "metadata": {},
     "output_type": "execute_result"
    },
    {
     "data": {
      "image/png": "[encoded data removed]",
      "text/plain": [
       "<Figure size 432x288 with 1 Axes>"
      ]
     },
     "metadata": {},
     "output_type": "display_data"
    }
   ],
   "source": [
    "plt.plot(cost)"
   ]
  },
  {
   "cell_type": "code",
   "execution_count": 191,
   "metadata": {},
   "outputs": [
    {
     "data": {
      "text/plain": [
       "array([0.61539369, 0.59608708, 0.60001075, 0.59321749, 0.69843878,\n",
       "       0.62681296, 0.7012354 , 0.60808684, 0.70019612, 0.61128963,\n",
       "       0.60813359, 0.70497523, 0.68972374, 0.61549796, 0.70947459,\n",
       "       0.61830173, 0.61593048, 0.70746136, 0.60567028, 0.68959481,\n",
       "       0.69575245, 0.69281517, 0.61503057, 0.61138659, 0.69833963,\n",
       "       0.69372712, 0.60283508, 0.61006059, 0.61745587, 0.60301129,\n",
       "       0.60769993, 0.6899729 , 0.71197013, 0.6983825 , 0.61012615,\n",
       "       0.62085009, 0.59790227, 0.62189244, 0.69593237, 0.69415872,\n",
       "       0.60154419, 0.60484206, 0.70490394, 0.61283683, 0.62066964,\n",
       "       0.62262742, 0.70175766, 0.61238518, 0.69774024, 0.69568089])"
      ]
     },
     "execution_count": 191,
     "metadata": {},
     "output_type": "execute_result"
    }
   ],
   "source": [
    "b"
   ]
  },
  {
   "cell_type": "code",
   "execution_count": 192,
   "metadata": {},
   "outputs": [
    {
     "data": {
      "text/plain": [
       "array([-0.49688734, -2.10176641, -0.27977823, -1.02483927,  0.69340558,\n",
       "       -0.38941382,  0.48945486, -1.03950235, -0.55946164, -0.61529738,\n",
       "       -2.36578199,  0.65390657, -0.31848828, -0.94114397,  0.53649653,\n",
       "        0.32841047, -0.48126531,  2.98097148, -1.88474189, -0.33507599,\n",
       "       -0.41597217, -0.98627064, -0.11321966,  0.07506668,  0.7939768 ,\n",
       "       -0.06676564, -0.43673834, -0.59548737, -0.76182735,  1.26884764,\n",
       "       -2.29359378, -0.2254829 ,  1.67689048,  0.48153967, -1.09622178,\n",
       "        0.22258296, -1.57232887, -0.06910863,  0.37683644,  0.5391749 ,\n",
       "        0.38841462, -0.8073948 ,  0.53091504,  0.16233718, -1.51006724,\n",
       "       -0.38402147,  0.92466253,  0.81541868,  0.97163117, -0.36751521])"
      ]
     },
     "execution_count": 192,
     "metadata": {},
     "output_type": "execute_result"
    }
   ],
   "source": [
    "true_b"
   ]
  },
  {
   "cell_type": "code",
   "execution_count": null,
   "metadata": {},
   "outputs": [],
   "source": []
  },
  {
   "cell_type": "code",
   "execution_count": null,
   "metadata": {},
   "outputs": [],
   "source": []
  }
 ],
 "metadata": {
  "kernelspec": {
   "display_name": "Python 3",
   "language": "python",
   "name": "python3"
  },
  "language_info": {
   "codemirror_mode": {
    "name": "ipython",
    "version": 3
   },
   "file_extension": ".py",
   "mimetype": "text/x-python",
   "name": "python",
   "nbconvert_exporter": "python",
   "pygments_lexer": "ipython3",
   "version": "3.6.5"
  }
 },
 "nbformat": 4,
 "nbformat_minor": 2
}
