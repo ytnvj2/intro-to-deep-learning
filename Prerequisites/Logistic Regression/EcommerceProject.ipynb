{
 "cells": [
  {
   "cell_type": "code",
   "execution_count": 35,
   "metadata": {},
   "outputs": [
    {
     "name": "stdout",
     "output_type": "stream",
     "text": [
      "Classification Rate:  0.36432160804020103\n",
      "Classification Rate for Train Sample:  0.9498207885304659\n",
      "Classification Rate for Test Sample:  0.975609756097561\n"
     ]
    }
   ],
   "source": [
    "import numpy as np\n",
    "import pandas as pd\n",
    "import matplotlib.pyplot as plt\n",
    "def get_data():\n",
    "    df=pd.read_csv('ecommerce_data.csv')\n",
    "    X=df.iloc[:,:-1].values\n",
    "    y=df.iloc[:,-1].values\n",
    "    X[:,1]=(X[:,1]-X[:,1].mean())/X[:,1].std()\n",
    "    X[:,2]=(X[:,2]-X[:,2].mean())/X[:,2].std()\n",
    "    N,D=X.shape\n",
    "    # One hot encoding Categorical Variable\n",
    "    X2=np.zeros((N,D+3)) # as 4 classes in categorical variable\n",
    "    X2[:,:D-1]=X[:,:D-1] # copy all variables except Categorical variable\n",
    "    for i in range(N):\n",
    "        t=int(X[i,D-1]) # find the class of categorical variable for the index i\n",
    "        X2[i,t+D-1]=1 # assign the ith row of (D-1+class of categorical variable) column as 1\n",
    "    return X2,y\n",
    "def get_binary_data():\n",
    "    X,y=get_data()\n",
    "    X2=X[y<=1]\n",
    "    y2=y[y<=1]\n",
    "    return X2,y2\n",
    "def sigmoid(z):\n",
    "    return (1/(1+np.exp(-z)))\n",
    "def feed_forward(X,w,b):\n",
    "    return sigmoid(X.dot(w) + b)\n",
    "def classification_rate(y,y_pred):\n",
    "    return np.mean(y==y_pred)\n",
    "def cross_entropy(y,y_pred):\n",
    "    E=0\n",
    "    for i in range(len(y)):\n",
    "        if y[i]==1:\n",
    "            E-=np.log(y_pred[i])\n",
    "        else:\n",
    "            E-=np.log(1-y_pred[i])\n",
    "    return E/len(y)\n",
    "def train_model(X,y,X_test,y_test,w,b,lr,epoch):\n",
    "    cost=[]\n",
    "    c_test=[]\n",
    "    for i in range(epoch):\n",
    "        w=w-lr*(X.T.dot((feed_forward(X,w,b)-y)))\n",
    "        b=b-lr*(feed_forward(X,w,b)-y).sum()\n",
    "        y_pred_train=feed_forward(X,w,b)\n",
    "        y_pred_test=feed_forward(X_test,w,b)\n",
    "        cost.append(cross_entropy(y,y_pred_train))\n",
    "        c_test.append(cross_entropy(y_test,y_pred_test))\n",
    "    return y_pred_train,y_pred_test,w,b,cost,c_test\n",
    "if __name__=='__main__':\n",
    "    X,y=get_binary_data()\n",
    "    N,D=X.shape\n",
    "    w=np.random.randn(D)\n",
    "    tr_i=np.random.choice(N,int(np.round(0.7*N)))\n",
    "    X_train=X[tr_i]\n",
    "    y_train=y[tr_i]\n",
    "    t_i=[i for i in range(N) if i not in tr_i]\n",
    "    X_test=X[t_i]\n",
    "    y_test=y[t_i]    \n",
    "    b=20 # bias term\n",
    "    p_x=feed_forward(X,w,b)\n",
    "    print('Classification Rate: ',classification_rate(y,np.round(p_x)))\n",
    "#     p,w_n,b_n,c=train_model(X,y,w,b,0.001,1000)\n",
    "#     print('Classification Rate: ',classification_rate(y,np.round(p)))\n",
    "    p_tr,p_t,w_t,b_n,c_train,c_test=train_model(X_train,y_train,X_test,y_test,w,b,0.001,100)\n",
    "    print('Classification Rate for Train Sample: ',classification_rate(y_train,np.round(feed_forward(X_train,w_t,b_n))))\n",
    "    print('Classification Rate for Test Sample: ',classification_rate(y_test,np.round(feed_forward(X_test,w_t,b_n))))\n",
    "\n"
   ]
  },
  {
   "cell_type": "code",
   "execution_count": 36,
   "metadata": {},
   "outputs": [
    {
     "data": {
      "image/png": "[encoded data removed]",
      "text/plain": [
       "<Figure size 432x288 with 1 Axes>"
      ]
     },
     "metadata": {},
     "output_type": "display_data"
    }
   ],
   "source": [
    "plt.plot(c_train,label='train')\n",
    "plt.plot(c_test,label='test')\n",
    "plt.legend()\n",
    "plt.show()"
   ]
  },
  {
   "cell_type": "code",
   "execution_count": 12,
   "metadata": {},
   "outputs": [
    {
     "data": {
      "text/plain": [
       "array([ 0.21335123, -0.74111846, -0.42244869,  0.57547467, -0.19543616,\n",
       "        0.20225153, -1.66696107,  0.0361599 ])"
      ]
     },
     "execution_count": 12,
     "metadata": {},
     "output_type": "execute_result"
    }
   ],
   "source": [
    "w"
   ]
  },
  {
   "cell_type": "code",
   "execution_count": 14,
   "metadata": {},
   "outputs": [
    {
     "data": {
      "text/plain": [
       "4.314281433612435"
      ]
     },
     "execution_count": 14,
     "metadata": {},
     "output_type": "execute_result"
    }
   ],
   "source": [
    "b_n"
   ]
  },
  {
   "cell_type": "code",
   "execution_count": 4,
   "metadata": {},
   "outputs": [
    {
     "data": {
      "text/html": [
       "<div>\n",
       "<style scoped>\n",
       "    .dataframe tbody tr th:only-of-type {\n",
       "        vertical-align: middle;\n",
       "    }\n",
       "\n",
       "    .dataframe tbody tr th {\n",
       "        vertical-align: top;\n",
       "    }\n",
       "\n",
       "    .dataframe thead th {\n",
       "        text-align: right;\n",
       "    }\n",
       "</style>\n",
       "<table border=\"1\" class=\"dataframe\">\n",
       "  <thead>\n",
       "    <tr style=\"text-align: right;\">\n",
       "      <th></th>\n",
       "      <th>is_mobile</th>\n",
       "      <th>n_products_viewed</th>\n",
       "      <th>visit_duration</th>\n",
       "      <th>is_returning_visitor</th>\n",
       "      <th>time_of_day</th>\n",
       "      <th>user_action</th>\n",
       "    </tr>\n",
       "  </thead>\n",
       "  <tbody>\n",
       "    <tr>\n",
       "      <th>count</th>\n",
       "      <td>500.000000</td>\n",
       "      <td>500.000000</td>\n",
       "      <td>500.000000</td>\n",
       "      <td>500.000000</td>\n",
       "      <td>500.000000</td>\n",
       "      <td>500.00000</td>\n",
       "    </tr>\n",
       "    <tr>\n",
       "      <th>mean</th>\n",
       "      <td>0.486000</td>\n",
       "      <td>0.854000</td>\n",
       "      <td>1.055880</td>\n",
       "      <td>0.518000</td>\n",
       "      <td>1.588000</td>\n",
       "      <td>0.74800</td>\n",
       "    </tr>\n",
       "    <tr>\n",
       "      <th>std</th>\n",
       "      <td>0.500305</td>\n",
       "      <td>1.046362</td>\n",
       "      <td>0.976711</td>\n",
       "      <td>0.500176</td>\n",
       "      <td>1.121057</td>\n",
       "      <td>0.89336</td>\n",
       "    </tr>\n",
       "    <tr>\n",
       "      <th>min</th>\n",
       "      <td>0.000000</td>\n",
       "      <td>0.000000</td>\n",
       "      <td>0.000141</td>\n",
       "      <td>0.000000</td>\n",
       "      <td>0.000000</td>\n",
       "      <td>0.00000</td>\n",
       "    </tr>\n",
       "    <tr>\n",
       "      <th>25%</th>\n",
       "      <td>0.000000</td>\n",
       "      <td>0.000000</td>\n",
       "      <td>0.328550</td>\n",
       "      <td>0.000000</td>\n",
       "      <td>1.000000</td>\n",
       "      <td>0.00000</td>\n",
       "    </tr>\n",
       "    <tr>\n",
       "      <th>50%</th>\n",
       "      <td>0.000000</td>\n",
       "      <td>1.000000</td>\n",
       "      <td>0.804717</td>\n",
       "      <td>1.000000</td>\n",
       "      <td>2.000000</td>\n",
       "      <td>0.00000</td>\n",
       "    </tr>\n",
       "    <tr>\n",
       "      <th>75%</th>\n",
       "      <td>1.000000</td>\n",
       "      <td>1.000000</td>\n",
       "      <td>1.499518</td>\n",
       "      <td>1.000000</td>\n",
       "      <td>3.000000</td>\n",
       "      <td>1.00000</td>\n",
       "    </tr>\n",
       "    <tr>\n",
       "      <th>max</th>\n",
       "      <td>1.000000</td>\n",
       "      <td>4.000000</td>\n",
       "      <td>6.368775</td>\n",
       "      <td>1.000000</td>\n",
       "      <td>3.000000</td>\n",
       "      <td>3.00000</td>\n",
       "    </tr>\n",
       "  </tbody>\n",
       "</table>\n",
       "</div>"
      ],
      "text/plain": [
       "        is_mobile  n_products_viewed  visit_duration  is_returning_visitor  \\\n",
       "count  500.000000         500.000000      500.000000            500.000000   \n",
       "mean     0.486000           0.854000        1.055880              0.518000   \n",
       "std      0.500305           1.046362        0.976711              0.500176   \n",
       "min      0.000000           0.000000        0.000141              0.000000   \n",
       "25%      0.000000           0.000000        0.328550              0.000000   \n",
       "50%      0.000000           1.000000        0.804717              1.000000   \n",
       "75%      1.000000           1.000000        1.499518              1.000000   \n",
       "max      1.000000           4.000000        6.368775              1.000000   \n",
       "\n",
       "       time_of_day  user_action  \n",
       "count   500.000000    500.00000  \n",
       "mean      1.588000      0.74800  \n",
       "std       1.121057      0.89336  \n",
       "min       0.000000      0.00000  \n",
       "25%       1.000000      0.00000  \n",
       "50%       2.000000      0.00000  \n",
       "75%       3.000000      1.00000  \n",
       "max       3.000000      3.00000  "
      ]
     },
     "execution_count": 4,
     "metadata": {},
     "output_type": "execute_result"
    }
   ],
   "source": [
    "df.describe()"
   ]
  },
  {
   "cell_type": "code",
   "execution_count": 28,
   "metadata": {},
   "outputs": [],
   "source": [
    "Z=np.zeros((N,4))"
   ]
  },
  {
   "cell_type": "code",
   "execution_count": 29,
   "metadata": {},
   "outputs": [
    {
     "data": {
      "text/plain": [
       "array([[0., 0., 0., 0.],\n",
       "       [0., 0., 0., 0.],\n",
       "       [0., 0., 0., 0.],\n",
       "       ...,\n",
       "       [0., 0., 0., 0.],\n",
       "       [0., 0., 0., 0.],\n",
       "       [0., 0., 0., 0.]])"
      ]
     },
     "execution_count": 29,
     "metadata": {},
     "output_type": "execute_result"
    }
   ],
   "source": [
    "Z"
   ]
  },
  {
   "cell_type": "code",
   "execution_count": 34,
   "metadata": {},
   "outputs": [],
   "source": [
    "Z[np.arange(N),X[:,D-1].astype(np.int32)]=1"
   ]
  },
  {
   "cell_type": "code",
   "execution_count": 35,
   "metadata": {},
   "outputs": [
    {
     "data": {
      "text/plain": [
       "array([[0., 0., 0., 1.],\n",
       "       [0., 0., 1., 0.],\n",
       "       [0., 1., 0., 0.],\n",
       "       ...,\n",
       "       [0., 0., 0., 1.],\n",
       "       [0., 0., 0., 1.],\n",
       "       [0., 0., 0., 1.]])"
      ]
     },
     "execution_count": 35,
     "metadata": {},
     "output_type": "execute_result"
    }
   ],
   "source": [
    "Z"
   ]
  },
  {
   "cell_type": "code",
   "execution_count": 37,
   "metadata": {},
   "outputs": [
    {
     "data": {
      "text/plain": [
       "0.0"
      ]
     },
     "execution_count": 37,
     "metadata": {},
     "output_type": "execute_result"
    }
   ],
   "source": [
    "(X2[:,-4:]-Z).sum()"
   ]
  },
  {
   "cell_type": "code",
   "execution_count": null,
   "metadata": {},
   "outputs": [],
   "source": []
  }
 ],
 "metadata": {
  "kernelspec": {
   "display_name": "Python 3",
   "language": "python",
   "name": "python3"
  },
  "language_info": {
   "codemirror_mode": {
    "name": "ipython",
    "version": 3
   },
   "file_extension": ".py",
   "mimetype": "text/x-python",
   "name": "python",
   "nbconvert_exporter": "python",
   "pygments_lexer": "ipython3",
   "version": "3.6.5"
  }
 },
 "nbformat": 4,
 "nbformat_minor": 2
}
