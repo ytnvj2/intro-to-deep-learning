{
 "cells": [
  {
   "cell_type": "code",
   "execution_count": 11,
   "metadata": {},
   "outputs": [
    {
     "name": "stdout",
     "output_type": "stream",
     "text": [
      "Classification Rate:  0.36432160804020103\n",
      "Classification Rate for Train Sample:  0.96415770609319\n",
      "Classification Rate for Test Sample:  0.9747899159663865\n"
     ]
    }
   ],
   "source": [
    "import numpy as np\n",
    "import pandas as pd\n",
    "import matplotlib.pyplot as plt\n",
    "def get_data():\n",
    "    df=pd.read_csv('ecommerce_data.csv')\n",
    "    X=df.iloc[:,:-1].values\n",
    "    y=df.iloc[:,-1].values\n",
    "    X[:,1]=(X[:,1]-X[:,1].mean())/X[:,1].std()\n",
    "    X[:,2]=(X[:,2]-X[:,2].mean())/X[:,2].std()\n",
    "    N,D=X.shape\n",
    "    # One hot encoding Categorical Variable\n",
    "    X2=np.zeros((N,D+3)) # as 4 classes in categorical variable\n",
    "    X2[:,:D-1]=X[:,:D-1] # copy all variables except Categorical variable\n",
    "    for i in range(N):\n",
    "        t=int(X[i,D-1]) # find the class of categorical variable for the index i\n",
    "        X2[i,t+D-1]=1 # assign the ith row of (D-1+class of categorical variable) column as 1\n",
    "    return X2,y\n",
    "def get_binary_data():\n",
    "    X,y=get_data()\n",
    "    X2=X[y<=1]\n",
    "    y2=y[y<=1]\n",
    "    return X2,y2\n",
    "def sigmoid(z):\n",
    "    return (1/(1+np.exp(-z)))\n",
    "def feed_forward(X,w,b):\n",
    "    return sigmoid(X.dot(w) + b)\n",
    "def classification_rate(y,y_pred):\n",
    "    return np.mean(y==y_pred)\n",
    "def cross_entropy(y,y_pred):\n",
    "    E=0\n",
    "    for i in range(len(y)):\n",
    "        if y[i]==1:\n",
    "            E-=np.log(y_pred[i])\n",
    "        else:\n",
    "            E-=np.log(1-y_pred[i])\n",
    "    return E/len(y)\n",
    "def train_model(X,y,X_test,y_test,w,b,lr,epoch):\n",
    "    cost=[]\n",
    "    c_test=[]\n",
    "    for i in range(epoch):\n",
    "        w=w-lr*(X.T.dot((feed_forward(X,w,b)-y)))\n",
    "        b=b-lr*(feed_forward(X,w,b)-y).sum()\n",
    "        y_pred_train=feed_forward(X,w,b)\n",
    "        y_pred_test=feed_forward(X_test,w,b)\n",
    "        cost.append(cross_entropy(y,y_pred_train))\n",
    "        c_test.append(cross_entropy(y_test,y_pred_test))\n",
    "    return y_pred_train,y_pred_test,w,b,cost,c_test\n",
    "if __name__=='__main__':\n",
    "    X,y=get_binary_data()\n",
    "    N,D=X.shape\n",
    "    w=np.random.randn(D)\n",
    "    tr_i=np.random.choice(N,int(np.round(0.7*N)),replace=False)\n",
    "    X_train=X[tr_i]\n",
    "    y_train=y[tr_i]\n",
    "    t_i=[i for i in range(N) if i not in tr_i]\n",
    "    X_test=X[t_i]\n",
    "    y_test=y[t_i]    \n",
    "    b=20 # bias term\n",
    "    p_x=feed_forward(X,w,b)\n",
    "    print('Classification Rate: ',classification_rate(y,np.round(p_x)))\n",
    "#     p,w_n,b_n,c=train_model(X,y,w,b,0.001,1000)\n",
    "#     print('Classification Rate: ',classification_rate(y,np.round(p)))\n",
    "    p_tr,p_t,w_t,b_n,c_train,c_test=train_model(X_train,y_train,X_test,y_test,w,b,0.001,1000)\n",
    "    print('Classification Rate for Train Sample: ',classification_rate(y_train,np.round(feed_forward(X_train,w_t,b_n))))\n",
    "    print('Classification Rate for Test Sample: ',classification_rate(y_test,np.round(feed_forward(X_test,w_t,b_n))))\n",
    "\n"
   ]
  },
  {
   "cell_type": "code",
   "execution_count": 12,
   "metadata": {},
   "outputs": [
    {
     "data": {
      "image/png": "[encoded data removed]",
      "text/plain": [
       "<Figure size 432x288 with 1 Axes>"
      ]
     },
     "metadata": {},
     "output_type": "display_data"
    }
   ],
   "source": [
    "plt.plot(c_train,label='train')\n",
    "plt.plot(c_test,label='test')\n",
    "plt.legend()\n",
    "plt.show()"
   ]
  },
  {
   "cell_type": "code",
   "execution_count": 13,
   "metadata": {},
   "outputs": [
    {
     "data": {
      "text/plain": [
       "array([-0.10890152,  0.26209938, -0.14644474,  0.13568689, -0.08827683,\n",
       "        1.11005194, -1.50468486, -1.26657999])"
      ]
     },
     "execution_count": 13,
     "metadata": {},
     "output_type": "execute_result"
    }
   ],
   "source": [
    "w"
   ]
  },
  {
   "cell_type": "code",
   "execution_count": 14,
   "metadata": {},
   "outputs": [
    {
     "data": {
      "text/plain": [
       "4.6900323687860075"
      ]
     },
     "execution_count": 14,
     "metadata": {},
     "output_type": "execute_result"
    }
   ],
   "source": [
    "b_n"
   ]
  },
  {
   "cell_type": "code",
   "execution_count": 15,
   "metadata": {},
   "outputs": [
    {
     "ename": "NameError",
     "evalue": "name 'df' is not defined",
     "output_type": "error",
     "traceback": [
      "\u001b[1;31m---------------------------------------------------------------------------\u001b[0m",
      "\u001b[1;31mNameError\u001b[0m                                 Traceback (most recent call last)",
      "\u001b[1;32m<ipython-input-15-ea8415b8a3ee>\u001b[0m in \u001b[0;36m<module>\u001b[1;34m()\u001b[0m\n\u001b[1;32m----> 1\u001b[1;33m \u001b[0mdf\u001b[0m\u001b[1;33m.\u001b[0m\u001b[0mdescribe\u001b[0m\u001b[1;33m(\u001b[0m\u001b[1;33m)\u001b[0m\u001b[1;33m\u001b[0m\u001b[0m\n\u001b[0m",
      "\u001b[1;31mNameError\u001b[0m: name 'df' is not defined"
     ]
    }
   ],
   "source": [
    "df.describe()"
   ]
  },
  {
   "cell_type": "code",
   "execution_count": 16,
   "metadata": {},
   "outputs": [],
   "source": [
    "Z=np.zeros((N,4))"
   ]
  },
  {
   "cell_type": "code",
   "execution_count": 17,
   "metadata": {},
   "outputs": [
    {
     "data": {
      "text/plain": [
       "array([[0., 0., 0., 0.],\n",
       "       [0., 0., 0., 0.],\n",
       "       [0., 0., 0., 0.],\n",
       "       ...,\n",
       "       [0., 0., 0., 0.],\n",
       "       [0., 0., 0., 0.],\n",
       "       [0., 0., 0., 0.]])"
      ]
     },
     "execution_count": 17,
     "metadata": {},
     "output_type": "execute_result"
    }
   ],
   "source": [
    "Z"
   ]
  },
  {
   "cell_type": "code",
   "execution_count": 18,
   "metadata": {},
   "outputs": [],
   "source": [
    "Z[np.arange(N),X[:,D-1].astype(np.int32)]=1"
   ]
  },
  {
   "cell_type": "code",
   "execution_count": 19,
   "metadata": {},
   "outputs": [
    {
     "data": {
      "text/plain": [
       "array([[0., 1., 0., 0.],\n",
       "       [1., 0., 0., 0.],\n",
       "       [1., 0., 0., 0.],\n",
       "       ...,\n",
       "       [0., 1., 0., 0.],\n",
       "       [0., 1., 0., 0.],\n",
       "       [0., 1., 0., 0.]])"
      ]
     },
     "execution_count": 19,
     "metadata": {},
     "output_type": "execute_result"
    }
   ],
   "source": [
    "Z"
   ]
  },
  {
   "cell_type": "code",
   "execution_count": 20,
   "metadata": {},
   "outputs": [
    {
     "ename": "NameError",
     "evalue": "name 'X2' is not defined",
     "output_type": "error",
     "traceback": [
      "\u001b[1;31m---------------------------------------------------------------------------\u001b[0m",
      "\u001b[1;31mNameError\u001b[0m                                 Traceback (most recent call last)",
      "\u001b[1;32m<ipython-input-20-9c9ad42bc2b2>\u001b[0m in \u001b[0;36m<module>\u001b[1;34m()\u001b[0m\n\u001b[1;32m----> 1\u001b[1;33m \u001b[1;33m(\u001b[0m\u001b[0mX2\u001b[0m\u001b[1;33m[\u001b[0m\u001b[1;33m:\u001b[0m\u001b[1;33m,\u001b[0m\u001b[1;33m-\u001b[0m\u001b[1;36m4\u001b[0m\u001b[1;33m:\u001b[0m\u001b[1;33m]\u001b[0m\u001b[1;33m-\u001b[0m\u001b[0mZ\u001b[0m\u001b[1;33m)\u001b[0m\u001b[1;33m.\u001b[0m\u001b[0msum\u001b[0m\u001b[1;33m(\u001b[0m\u001b[1;33m)\u001b[0m\u001b[1;33m\u001b[0m\u001b[0m\n\u001b[0m",
      "\u001b[1;31mNameError\u001b[0m: name 'X2' is not defined"
     ]
    }
   ],
   "source": [
    "(X2[:,-4:]-Z).sum()"
   ]
  },
  {
   "cell_type": "code",
   "execution_count": 21,
   "metadata": {},
   "outputs": [
    {
     "data": {
      "text/plain": [
       "279"
      ]
     },
     "execution_count": 21,
     "metadata": {},
     "output_type": "execute_result"
    }
   ],
   "source": [
    "len(X_train)"
   ]
  },
  {
   "cell_type": "code",
   "execution_count": 22,
   "metadata": {},
   "outputs": [
    {
     "data": {
      "text/plain": [
       "119"
      ]
     },
     "execution_count": 22,
     "metadata": {},
     "output_type": "execute_result"
    }
   ],
   "source": [
    "len(X_test)"
   ]
  },
  {
   "cell_type": "code",
   "execution_count": 23,
   "metadata": {},
   "outputs": [
    {
     "data": {
      "text/plain": [
       "398"
      ]
     },
     "execution_count": 23,
     "metadata": {},
     "output_type": "execute_result"
    }
   ],
   "source": [
    "len(y)"
   ]
  },
  {
   "cell_type": "code",
   "execution_count": null,
   "metadata": {},
   "outputs": [],
   "source": []
  }
 ],
 "metadata": {
  "kernelspec": {
   "display_name": "Python 3",
   "language": "python",
   "name": "python3"
  },
  "language_info": {
   "codemirror_mode": {
    "name": "ipython",
    "version": 3
   },
   "file_extension": ".py",
   "mimetype": "text/x-python",
   "name": "python",
   "nbconvert_exporter": "python",
   "pygments_lexer": "ipython3",
   "version": "3.6.5"
  }
 },
 "nbformat": 4,
 "nbformat_minor": 2
}
