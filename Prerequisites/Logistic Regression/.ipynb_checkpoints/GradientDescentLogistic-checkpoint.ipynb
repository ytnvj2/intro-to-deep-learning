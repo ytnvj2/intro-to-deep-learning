{
 "cells": [
  {
   "cell_type": "code",
   "execution_count": 11,
   "metadata": {},
   "outputs": [],
   "source": [
    "import numpy as np\n",
    "N=100\n",
    "D=2\n",
    "X=np.random.randn(N,D)\n",
    "X[:50,:]=X[:50,:]-2*np.ones(D)\n",
    "X[50:,:]=X[50:,:]+2*np.ones(D)\n",
    "Xb=np.concatenate((np.array([np.ones(N)]).T,X),axis=1)\n",
    "y=np.array([0]*50+[1]*50)\n",
    "def sigmoid(z):\n",
    "    return (1/(1+np.exp(-z)))\n",
    "def cross_entropy(y,y_pred):\n",
    "    E=0\n",
    "    for i in range(len(y)):\n",
    "        if y[i]==1:\n",
    "            E-=np.log(y_pred[i])\n",
    "        else:\n",
    "            E-=np.log(1-y_pred[i])\n",
    "    return E\n",
    "w=np.random.randn(D+1)\n",
    "lr=0.001\n",
    "cost=[]\n",
    "for i in range(10000):\n",
    "    w=w-lr*(np.dot(Xb.T,(sigmoid(Xb.dot(w))-y)))\n",
    "    y_pred=sigmoid(Xb.dot(w))\n",
    "    if cross_entropy(y,y_pred)<=0.6:\n",
    "        break\n",
    "    cost.append(cross_entropy(y,y_pred))\n",
    "\n"
   ]
  },
  {
   "cell_type": "code",
   "execution_count": 12,
   "metadata": {},
   "outputs": [
    {
     "data": {
      "text/plain": [
       "2424"
      ]
     },
     "execution_count": 12,
     "metadata": {},
     "output_type": "execute_result"
    }
   ],
   "source": [
    "len(cost)"
   ]
  },
  {
   "cell_type": "code",
   "execution_count": 13,
   "metadata": {},
   "outputs": [
    {
     "data": {
      "text/plain": [
       "array([0.15406568, 1.89800723, 3.47716414])"
      ]
     },
     "execution_count": 13,
     "metadata": {},
     "output_type": "execute_result"
    }
   ],
   "source": [
    "w"
   ]
  },
  {
   "cell_type": "code",
   "execution_count": 14,
   "metadata": {},
   "outputs": [
    {
     "data": {
      "text/plain": [
       "array([0., 0., 0., 0., 0., 0., 0., 0., 0., 0., 0., 0., 0., 0., 0., 0., 0.,\n",
       "       0., 0., 0., 0., 0., 0., 0., 0., 0., 0., 0., 0., 0., 0., 0., 0., 0.,\n",
       "       0., 0., 0., 0., 0., 0., 0., 0., 0., 0., 0., 0., 0., 0., 0., 0., 0.,\n",
       "       0., 0., 0., 0., 0., 0., 0., 0., 0., 0., 0., 0., 0., 0., 0., 0., 0.,\n",
       "       0., 0., 0., 0., 0., 0., 0., 0., 0., 0., 0., 0., 0., 0., 0., 0., 0.,\n",
       "       0., 0., 0., 0., 0., 0., 0., 0., 0., 0., 0., 0., 0., 0., 0.])"
      ]
     },
     "execution_count": 14,
     "metadata": {},
     "output_type": "execute_result"
    }
   ],
   "source": [
    "y-np.round(y_pred)"
   ]
  },
  {
   "cell_type": "code",
   "execution_count": null,
   "metadata": {},
   "outputs": [],
   "source": []
  }
 ],
 "metadata": {
  "kernelspec": {
   "display_name": "Python 3",
   "language": "python",
   "name": "python3"
  },
  "language_info": {
   "codemirror_mode": {
    "name": "ipython",
    "version": 3
   },
   "file_extension": ".py",
   "mimetype": "text/x-python",
   "name": "python",
   "nbconvert_exporter": "python",
   "pygments_lexer": "ipython3",
   "version": "3.6.5"
  }
 },
 "nbformat": 4,
 "nbformat_minor": 2
}
